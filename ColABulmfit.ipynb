{
  "nbformat": 4,
  "nbformat_minor": 0,
  "metadata": {
    "kernelspec": {
      "name": "python3",
      "display_name": "Python 3"
    },
    "language_info": {
      "codemirror_mode": {
        "name": "ipython",
        "version": 3
      },
      "file_extension": ".py",
      "mimetype": "text/x-python",
      "name": "python",
      "nbconvert_exporter": "python",
      "pygments_lexer": "ipython3",
      "version": "3.6.7"
    },
    "colab": {
      "name": "ColABulmfit.ipynb",
      "version": "0.3.2",
      "provenance": [],
      "collapsed_sections": [],
      "toc_visible": true,
      "include_colab_link": true
    },
    "accelerator": "GPU"
  },
  "cells": [
    {
      "cell_type": "markdown",
      "metadata": {
        "id": "view-in-github",
        "colab_type": "text"
      },
      "source": [
        "<a href=\"https://colab.research.google.com/github/sleclair0/tweet-stance-prediction/blob/master/ColABulmfit.ipynb\" target=\"_parent\"><img src=\"https://colab.research.google.com/assets/colab-badge.svg\" alt=\"Open In Colab\"/></a>"
      ]
    },
    {
      "cell_type": "markdown",
      "metadata": {
        "id": "V5I9hmoGKe9m",
        "colab_type": "text"
      },
      "source": [
        "# Stance Classification of Tweets using Transfer Learning\n",
        "This notebook shows how *transfer learning*, an extension of deep learning, can be used for predicting Tweet stance toward a particular topic."
      ]
    },
    {
      "cell_type": "markdown",
      "metadata": {
        "id": "B2i7JYv_Ke9o",
        "colab_type": "text"
      },
      "source": [
        "# 1. Motivation\n",
        "\n",
        "The traditional approach to applying deep learning methods in NLP have involved feeding a model large amounts of labeled training data, and fitting the model's parameters to this data. In practice, natural language data is highly variable and can come in a variety of forms (tweets, blog posts, reviews etc.), and hence, a model trained for a particular language task does not generalize well to new data from another distribution. In addition, many natural language applications do not come with an abundance of labeled examples, and human annotation can get very expensive as the datasets get larger.\n",
        "\n",
        "This offers good motivation to explore the notion of [transfer learning](http://ruder.io/transfer-learning/index.html#whatistransferlearning) - a machine-learning technique that has the ability to transfer knowledge to novel scenarios not encountered during training. While transfer learning has been ubiquitous throughout computer vision applications since the advent of huge datasets such as ImageNet, it is only since 2017-18 that significant progress has been made for transfer learning in NLP applications. There have been a string of interesting papers in 2018 that discuss the power of language models in natural language understanding and how they can be used to provide pre-trained representations of a language's syntax, which can be far more useful when training a neural network for previously unseen tasks.\n",
        "\n",
        "Twitter data is a very interesting use case for transfer learning, mainly because the typical language syntax seen in Tweets is quite different from that which is used to train language models. For these reasons, the **2016 SemEval Stance Detection task** is chosen for studying the effectiveness of our transfer learning approach. The dataset, experiments and the evaluation criteria used are explained in below sections. \n",
        "\n",
        "The aim of this notebook is to highlight the development of a model that can help answer the following questions:\n",
        "- How does our approach generalize to Twitter-specific language syntax?\n",
        "- Are we able to achieve reasonable results (comparable to the winning team of SemEval 2016 Task 6) with *limited amounts of training data* and *limited computing resources*?\n",
        "- How much fine-tuning effort is required to achieve reasonable results?"
      ]
    },
    {
      "cell_type": "markdown",
      "metadata": {
        "id": "zs3_q1umKe9p",
        "colab_type": "text"
      },
      "source": [
        "# 2. Approach\n",
        "This section describes the 3-Layer LSTM architecture used for transfer learning, **ULMFit**. This is the architecture described in the well known paper by [Howard and Ruder, 2018](https://arxiv.org/pdf/1801.06146.pdf), that has been proven to generalize\n",
        "well to unseen distributions. The goal is to see how *ULMFit* can perform in this particular Tweet stance classification task.\n",
        "\n",
        "\n",
        "## 2.1 ULMFit Model Architecture\n",
        "![title](https://github.com/sleclair0/tweet-stance-prediction/blob/master/assets/ulmfit_arch.png?raw=1)\n",
        "\n",
        "Source: [Howard and Ruder, 2018](https://arxiv.org/pdf/1801.06146.pdf)\n",
        "\n",
        "To classify out-of-domain data (such as our Twitter data), the following techniques are applied from the ULMFit paper:\n",
        "\n",
        "### Discriminative Fine-tuning\n",
        "From the *ULMFit* paper, each layer of the model captures *different types of information*. Hence, it makes sense to fine-tune each layer differently, and this is done in *ULMFit* after extensive empirical testing and implementation updates. Rather than change each layer manually, we can use the implemented ratios, but adapt the multiplier that influences the learning rate for each layer. \n",
        "\n",
        "*ULMFit* also uses discriminative fine-tuning with regard to the SGD update as follows:\n",
        "\n",
        "$\\theta_{t}^{l} = \\theta_{t-1}^{l} - \\eta^{l} \\cdot \\nabla_{\\theta^l} J{\\theta} $\n",
        "\n",
        "### 1-cycle learning rate policy\n",
        "In the fine-tuning stage, a *1-cycle learning rate* policy is applied, which comes from this [report by Leslie Smith](https://arxiv.org/abs/1803.09820). It is a modification of the cyclical learning rate policy, which has been around for a long time, but the 1-cycle policy allows a large initial learning rate ($LR_{max}=10^{-3}$, for example), but decreases it by several orders of magnitude just at the last epoch. This seems to provide greater final accuracy. In the ULMFit implementation,  this 1-cycle policy has been tweaked and is referred to as *slanted triangular learning rate*.\n",
        "\n",
        "### Gradual unfreezing\n",
        "Rather than training all the layers at once during classification, the layers are \"frozen\" and the last layer is fine-tuned first, followed by the next layer before it, and so on. This avoids the phenomenon known as *catastrophic forgetting* (by fine-tuning all layers too aggressively). \n",
        "\n",
        "### Concatenated pooling\n",
        "Because an input text can consist of hundreds or thousands of words, information might get lost if we only consider the last hidden state.\n",
        "\n",
        "Hence, the hidden state at the last time step, $h_T$ is concatenated with *both* the max-pooled and mean-pooled representation of the hidden states over as many time steps as can fit in GPU memory.\n",
        "\n",
        "$h_C = [h_T, maxpool(H), meanpool(H)]$\n",
        "\n",
        "Where $H$ is the vector of all hidden states.\n",
        "\n",
        "### 3-stage fine-tuning methodology\n",
        "The classification task is done in a 3-stage process:\n",
        "1. General-domain LM pretraining: ULMFit has a pretrained model generated using an AWD-LSTM (as per [Merity et al., 2017]((https://arxiv.org/pdf/1708.02182.pdf))) to develop a language model called ```Wikitext-103``` and was trained of 28,595 preprocessed Wikipedia articles, totalling to 103 million words. \n",
        "2. Target task *LM* fine-tuning: Since the data for the target will likely come from a different distribution, ULMFit allows us to use the pre-trained language model anf fine-tune it (using the above techniques) to adapt to the idiosyncrasies of the target data.\n",
        "3. Target task *classifier* fine-tuning: Once we save the updated weights from the language model fine-tuning step, we can fine-tune the classifier with gradual unfreezing and the other techniques described above to perform  task-specific class prediction. \n",
        "\n",
        "Note that for this SemEval Tweet stance classification task, we only perform steps 2 and 3, and utilize the pretrained language model from the ```fastai``` database. "
      ]
    },
    {
      "cell_type": "markdown",
      "metadata": {
        "id": "lGkPegREKe9q",
        "colab_type": "text"
      },
      "source": [
        "# 3. Data\n",
        "\n",
        "The training and test data consist of Tweets pertaining to five distinct topics, shown in [SemEval 2016: Task 6](http://alt.qcri.org/semeval2016/task6/). We only look at Task A: \"Supervised Framework\" in this notebook. The train and test data (including the gold) are in the the ```data/``` directory provided along with this repository.\n",
        "\n",
        "The five topics for which Tweets are provided as part of the training data are given below. \n",
        "\n",
        "| Topic        \n",
        "|:------------ | \n",
        "| Atheism     |\n",
        "| Climate Change is a Real Concern  | \n",
        "| Feminist Movement | \n",
        "| Hillary Clinton  |\n",
        "| Legalization of Abortion  | \n",
        "\n",
        "A more detailed breakdown of the tweets for this shared task is provided in [this link](http://www.saifmohammad.com/WebPages/StanceDataset.htm). \n",
        "\n",
        "## Size of dataset\n",
        "The total number of Tweets (in the training set) available for this task is roughly 2700, which amounts to roughly 500-600 Tweets per topic. Thus, this can be considered a small dataset. \n",
        "\n",
        "![title](https://github.com/sleclair0/tweet-stance-prediction/blob/master/assets/stance_balance.png?raw=1)\n",
        "\n",
        "Upon inspecting the training data, it is clear that there is quite a large variance in terms of the number of Tweets in favor vs. those against a topic. There is quite a large variance *within* classes as well as *between* classes in the overall data. \n",
        "\n",
        "## 3.1 Pretrained language models\n",
        "\n",
        "*ULMFit* uses its own pretrained language model ```wikitext-103``` that can be conveniently downloaded  from the ```fastai``` database hosted on AWS. \n"
      ]
    },
    {
      "cell_type": "markdown",
      "metadata": {
        "id": "cg3ZQj_tKe9q",
        "colab_type": "text"
      },
      "source": [
        "## 3.2 Preprocess SemEval training data\n",
        "This section discusses the steps used to prepare the data for transfer learning utilizing the ```fastai``` framework. In particular, the ```fastai.text``` library is designed to work very well with tabular data, hence, Pandas DataFrames are used to organize and filter the data."
      ]
    },
    {
      "cell_type": "code",
      "metadata": {
        "id": "5TR80yYCKtPY",
        "colab_type": "code",
        "outputId": "d53cae8a-c82b-48c2-d11c-e51c24f8c258",
        "colab": {
          "base_uri": "https://localhost:8080/",
          "height": 734
        }
      },
      "source": [
        "!ls\n",
        "!pip3 install -r requirements.txt"
      ],
      "execution_count": 4,
      "outputs": [
        {
          "output_type": "stream",
          "text": [
            "pytorch-requirements.txt  requirements.txt  transformer.ipynb  vocab.pkl\n",
            "README.md\t\t  sample_data\t    ulmfit.ipynb\n",
            "Requirement already satisfied: numpy in /usr/local/lib/python3.6/dist-packages (from -r requirements.txt (line 1)) (1.16.4)\n",
            "Requirement already satisfied: scipy in /usr/local/lib/python3.6/dist-packages (from -r requirements.txt (line 2)) (1.3.0)\n",
            "Requirement already satisfied: matplotlib in /usr/local/lib/python3.6/dist-packages (from -r requirements.txt (line 3)) (3.0.3)\n",
            "Requirement already satisfied: seaborn in /usr/local/lib/python3.6/dist-packages (from -r requirements.txt (line 4)) (0.9.0)\n",
            "Requirement already satisfied: pandas in /usr/local/lib/python3.6/dist-packages (from -r requirements.txt (line 5)) (0.24.2)\n",
            "Requirement already satisfied: sklearn in /usr/local/lib/python3.6/dist-packages (from -r requirements.txt (line 6)) (0.0)\n",
            "Requirement already satisfied: spacy in /usr/local/lib/python3.6/dist-packages (from -r requirements.txt (line 7)) (2.1.6)\n",
            "Collecting nbimporter (from -r requirements.txt (line 8))\n",
            "  Downloading https://files.pythonhosted.org/packages/39/a1/9771984f60c4ea6d0c36215b44a5c1537cfda845c08e7ee5cf748c43d7cf/nbimporter-0.3.1.tar.gz\n",
            "Requirement already satisfied: cycler>=0.10 in /usr/local/lib/python3.6/dist-packages (from matplotlib->-r requirements.txt (line 3)) (0.10.0)\n",
            "Requirement already satisfied: pyparsing!=2.0.4,!=2.1.2,!=2.1.6,>=2.0.1 in /usr/local/lib/python3.6/dist-packages (from matplotlib->-r requirements.txt (line 3)) (2.4.2)\n",
            "Requirement already satisfied: kiwisolver>=1.0.1 in /usr/local/lib/python3.6/dist-packages (from matplotlib->-r requirements.txt (line 3)) (1.1.0)\n",
            "Requirement already satisfied: python-dateutil>=2.1 in /usr/local/lib/python3.6/dist-packages (from matplotlib->-r requirements.txt (line 3)) (2.5.3)\n",
            "Requirement already satisfied: pytz>=2011k in /usr/local/lib/python3.6/dist-packages (from pandas->-r requirements.txt (line 5)) (2018.9)\n",
            "Requirement already satisfied: scikit-learn in /usr/local/lib/python3.6/dist-packages (from sklearn->-r requirements.txt (line 6)) (0.21.3)\n",
            "Requirement already satisfied: murmurhash<1.1.0,>=0.28.0 in /usr/local/lib/python3.6/dist-packages (from spacy->-r requirements.txt (line 7)) (1.0.2)\n",
            "Requirement already satisfied: requests<3.0.0,>=2.13.0 in /usr/local/lib/python3.6/dist-packages (from spacy->-r requirements.txt (line 7)) (2.21.0)\n",
            "Requirement already satisfied: preshed<2.1.0,>=2.0.1 in /usr/local/lib/python3.6/dist-packages (from spacy->-r requirements.txt (line 7)) (2.0.1)\n",
            "Requirement already satisfied: wasabi<1.1.0,>=0.2.0 in /usr/local/lib/python3.6/dist-packages (from spacy->-r requirements.txt (line 7)) (0.2.2)\n",
            "Requirement already satisfied: plac<1.0.0,>=0.9.6 in /usr/local/lib/python3.6/dist-packages (from spacy->-r requirements.txt (line 7)) (0.9.6)\n",
            "Requirement already satisfied: srsly<1.1.0,>=0.0.6 in /usr/local/lib/python3.6/dist-packages (from spacy->-r requirements.txt (line 7)) (0.0.7)\n",
            "Requirement already satisfied: thinc<7.1.0,>=7.0.8 in /usr/local/lib/python3.6/dist-packages (from spacy->-r requirements.txt (line 7)) (7.0.8)\n",
            "Requirement already satisfied: blis<0.3.0,>=0.2.2 in /usr/local/lib/python3.6/dist-packages (from spacy->-r requirements.txt (line 7)) (0.2.4)\n",
            "Requirement already satisfied: cymem<2.1.0,>=2.0.2 in /usr/local/lib/python3.6/dist-packages (from spacy->-r requirements.txt (line 7)) (2.0.2)\n",
            "Requirement already satisfied: six in /usr/local/lib/python3.6/dist-packages (from cycler>=0.10->matplotlib->-r requirements.txt (line 3)) (1.12.0)\n",
            "Requirement already satisfied: setuptools in /usr/local/lib/python3.6/dist-packages (from kiwisolver>=1.0.1->matplotlib->-r requirements.txt (line 3)) (41.0.1)\n",
            "Requirement already satisfied: joblib>=0.11 in /usr/local/lib/python3.6/dist-packages (from scikit-learn->sklearn->-r requirements.txt (line 6)) (0.13.2)\n",
            "Requirement already satisfied: idna<2.9,>=2.5 in /usr/local/lib/python3.6/dist-packages (from requests<3.0.0,>=2.13.0->spacy->-r requirements.txt (line 7)) (2.8)\n",
            "Requirement already satisfied: urllib3<1.25,>=1.21.1 in /usr/local/lib/python3.6/dist-packages (from requests<3.0.0,>=2.13.0->spacy->-r requirements.txt (line 7)) (1.24.3)\n",
            "Requirement already satisfied: certifi>=2017.4.17 in /usr/local/lib/python3.6/dist-packages (from requests<3.0.0,>=2.13.0->spacy->-r requirements.txt (line 7)) (2019.6.16)\n",
            "Requirement already satisfied: chardet<3.1.0,>=3.0.2 in /usr/local/lib/python3.6/dist-packages (from requests<3.0.0,>=2.13.0->spacy->-r requirements.txt (line 7)) (3.0.4)\n",
            "Requirement already satisfied: tqdm<5.0.0,>=4.10.0 in /usr/local/lib/python3.6/dist-packages (from thinc<7.1.0,>=7.0.8->spacy->-r requirements.txt (line 7)) (4.28.1)\n",
            "Building wheels for collected packages: nbimporter\n",
            "  Building wheel for nbimporter (setup.py) ... \u001b[?25l\u001b[?25hdone\n",
            "  Created wheel for nbimporter: filename=nbimporter-0.3.1-cp36-none-any.whl size=3792 sha256=a6339aa6d6265a18f1c2ccc9cfd3c26b1eaa94a886fe09cc944c4a6fe8bdfd15\n",
            "  Stored in directory: /root/.cache/pip/wheels/44/7d/40/f48fe3f0995a282d582ca73a6807b9bb23c8cc3f1525e62429\n",
            "Successfully built nbimporter\n",
            "Installing collected packages: nbimporter\n",
            "Successfully installed nbimporter-0.3.1\n"
          ],
          "name": "stdout"
        }
      ]
    },
    {
      "cell_type": "code",
      "metadata": {
        "id": "EKpRo7yCMIBP",
        "colab_type": "code",
        "outputId": "7bfa5e5e-3ff6-4535-a827-6cf1ff5943b9",
        "colab": {
          "base_uri": "https://localhost:8080/",
          "height": 156
        }
      },
      "source": [
        "!pip3 install -r pytorch-requirements.txt"
      ],
      "execution_count": 5,
      "outputs": [
        {
          "output_type": "stream",
          "text": [
            "Requirement already satisfied: torch in /usr/local/lib/python3.6/dist-packages (from -r pytorch-requirements.txt (line 1)) (1.1.0)\n",
            "Requirement already satisfied: torchvision in /usr/local/lib/python3.6/dist-packages (from -r pytorch-requirements.txt (line 2)) (0.3.0)\n",
            "Requirement already satisfied: tqdm in /usr/local/lib/python3.6/dist-packages (from -r pytorch-requirements.txt (line 3)) (4.28.1)\n",
            "Requirement already satisfied: numpy in /usr/local/lib/python3.6/dist-packages (from torch->-r pytorch-requirements.txt (line 1)) (1.16.4)\n",
            "Requirement already satisfied: pillow>=4.1.1 in /usr/local/lib/python3.6/dist-packages (from torchvision->-r pytorch-requirements.txt (line 2)) (4.3.0)\n",
            "Requirement already satisfied: six in /usr/local/lib/python3.6/dist-packages (from torchvision->-r pytorch-requirements.txt (line 2)) (1.12.0)\n",
            "Requirement already satisfied: olefile in /usr/local/lib/python3.6/dist-packages (from pillow>=4.1.1->torchvision->-r pytorch-requirements.txt (line 2)) (0.46)\n"
          ],
          "name": "stdout"
        }
      ]
    },
    {
      "cell_type": "code",
      "metadata": {
        "id": "AlCLVGJ1MYlz",
        "colab_type": "code",
        "outputId": "c30939bb-0b86-42f5-9152-276258cb33c0",
        "colab": {
          "base_uri": "https://localhost:8080/",
          "height": 34
        }
      },
      "source": [
        "!python -V"
      ],
      "execution_count": 6,
      "outputs": [
        {
          "output_type": "stream",
          "text": [
            "Python 3.6.8\n"
          ],
          "name": "stdout"
        }
      ]
    },
    {
      "cell_type": "code",
      "metadata": {
        "colab_type": "code",
        "outputId": "6d92344d-8e83-4fd0-b7a5-968ed1f84900",
        "id": "MLTdSoAaUapQ",
        "colab": {
          "base_uri": "https://localhost:8080/",
          "height": 51
        }
      },
      "source": [
        "# Check that the latest 1.0.0 build of PyTorch has been installed \n",
        "# alongside fastai\n",
        "import torch\n",
        "print(\"Cuda available\" if torch.cuda.is_available() is True else \"CPU\")\n",
        "print(\"PyTorch version: \", torch.__version__)"
      ],
      "execution_count": 7,
      "outputs": [
        {
          "output_type": "stream",
          "text": [
            "Cuda available\n",
            "PyTorch version:  1.1.0\n"
          ],
          "name": "stdout"
        }
      ]
    },
    {
      "cell_type": "code",
      "metadata": {
        "id": "EHjHSgJNNPjO",
        "colab_type": "code",
        "outputId": "dd6eb119-d812-4cb1-fd12-3fec1446d43a",
        "colab": {
          "base_uri": "https://localhost:8080/",
          "height": 734
        }
      },
      "source": [
        "!pip3 install fastai"
      ],
      "execution_count": 8,
      "outputs": [
        {
          "output_type": "stream",
          "text": [
            "Requirement already satisfied: fastai in /usr/local/lib/python3.6/dist-packages (1.0.55)\n",
            "Requirement already satisfied: pandas in /usr/local/lib/python3.6/dist-packages (from fastai) (0.24.2)\n",
            "Requirement already satisfied: numexpr in /usr/local/lib/python3.6/dist-packages (from fastai) (2.6.9)\n",
            "Requirement already satisfied: numpy>=1.15 in /usr/local/lib/python3.6/dist-packages (from fastai) (1.16.4)\n",
            "Requirement already satisfied: packaging in /usr/local/lib/python3.6/dist-packages (from fastai) (19.1)\n",
            "Requirement already satisfied: torch>=1.0.0 in /usr/local/lib/python3.6/dist-packages (from fastai) (1.1.0)\n",
            "Requirement already satisfied: fastprogress>=0.1.19 in /usr/local/lib/python3.6/dist-packages (from fastai) (0.1.21)\n",
            "Requirement already satisfied: matplotlib in /usr/local/lib/python3.6/dist-packages (from fastai) (3.0.3)\n",
            "Requirement already satisfied: nvidia-ml-py3 in /usr/local/lib/python3.6/dist-packages (from fastai) (7.352.0)\n",
            "Requirement already satisfied: bottleneck in /usr/local/lib/python3.6/dist-packages (from fastai) (1.2.1)\n",
            "Requirement already satisfied: scipy in /usr/local/lib/python3.6/dist-packages (from fastai) (1.3.0)\n",
            "Requirement already satisfied: beautifulsoup4 in /usr/local/lib/python3.6/dist-packages (from fastai) (4.6.3)\n",
            "Requirement already satisfied: spacy>=2.0.18 in /usr/local/lib/python3.6/dist-packages (from fastai) (2.1.6)\n",
            "Requirement already satisfied: torchvision in /usr/local/lib/python3.6/dist-packages (from fastai) (0.3.0)\n",
            "Requirement already satisfied: typing; python_version < \"3.7\" in /usr/local/lib/python3.6/dist-packages (from fastai) (3.7.4)\n",
            "Requirement already satisfied: Pillow in /usr/local/lib/python3.6/dist-packages (from fastai) (4.3.0)\n",
            "Requirement already satisfied: pyyaml in /usr/local/lib/python3.6/dist-packages (from fastai) (3.13)\n",
            "Requirement already satisfied: requests in /usr/local/lib/python3.6/dist-packages (from fastai) (2.21.0)\n",
            "Requirement already satisfied: dataclasses; python_version < \"3.7\" in /usr/local/lib/python3.6/dist-packages (from fastai) (0.6)\n",
            "Requirement already satisfied: pytz>=2011k in /usr/local/lib/python3.6/dist-packages (from pandas->fastai) (2018.9)\n",
            "Requirement already satisfied: python-dateutil>=2.5.0 in /usr/local/lib/python3.6/dist-packages (from pandas->fastai) (2.5.3)\n",
            "Requirement already satisfied: attrs in /usr/local/lib/python3.6/dist-packages (from packaging->fastai) (19.1.0)\n",
            "Requirement already satisfied: six in /usr/local/lib/python3.6/dist-packages (from packaging->fastai) (1.12.0)\n",
            "Requirement already satisfied: pyparsing>=2.0.2 in /usr/local/lib/python3.6/dist-packages (from packaging->fastai) (2.4.2)\n",
            "Requirement already satisfied: cycler>=0.10 in /usr/local/lib/python3.6/dist-packages (from matplotlib->fastai) (0.10.0)\n",
            "Requirement already satisfied: kiwisolver>=1.0.1 in /usr/local/lib/python3.6/dist-packages (from matplotlib->fastai) (1.1.0)\n",
            "Requirement already satisfied: murmurhash<1.1.0,>=0.28.0 in /usr/local/lib/python3.6/dist-packages (from spacy>=2.0.18->fastai) (1.0.2)\n",
            "Requirement already satisfied: blis<0.3.0,>=0.2.2 in /usr/local/lib/python3.6/dist-packages (from spacy>=2.0.18->fastai) (0.2.4)\n",
            "Requirement already satisfied: cymem<2.1.0,>=2.0.2 in /usr/local/lib/python3.6/dist-packages (from spacy>=2.0.18->fastai) (2.0.2)\n",
            "Requirement already satisfied: plac<1.0.0,>=0.9.6 in /usr/local/lib/python3.6/dist-packages (from spacy>=2.0.18->fastai) (0.9.6)\n",
            "Requirement already satisfied: thinc<7.1.0,>=7.0.8 in /usr/local/lib/python3.6/dist-packages (from spacy>=2.0.18->fastai) (7.0.8)\n",
            "Requirement already satisfied: srsly<1.1.0,>=0.0.6 in /usr/local/lib/python3.6/dist-packages (from spacy>=2.0.18->fastai) (0.0.7)\n",
            "Requirement already satisfied: wasabi<1.1.0,>=0.2.0 in /usr/local/lib/python3.6/dist-packages (from spacy>=2.0.18->fastai) (0.2.2)\n",
            "Requirement already satisfied: preshed<2.1.0,>=2.0.1 in /usr/local/lib/python3.6/dist-packages (from spacy>=2.0.18->fastai) (2.0.1)\n",
            "Requirement already satisfied: olefile in /usr/local/lib/python3.6/dist-packages (from Pillow->fastai) (0.46)\n",
            "Requirement already satisfied: certifi>=2017.4.17 in /usr/local/lib/python3.6/dist-packages (from requests->fastai) (2019.6.16)\n",
            "Requirement already satisfied: urllib3<1.25,>=1.21.1 in /usr/local/lib/python3.6/dist-packages (from requests->fastai) (1.24.3)\n",
            "Requirement already satisfied: idna<2.9,>=2.5 in /usr/local/lib/python3.6/dist-packages (from requests->fastai) (2.8)\n",
            "Requirement already satisfied: chardet<3.1.0,>=3.0.2 in /usr/local/lib/python3.6/dist-packages (from requests->fastai) (3.0.4)\n",
            "Requirement already satisfied: setuptools in /usr/local/lib/python3.6/dist-packages (from kiwisolver>=1.0.1->matplotlib->fastai) (41.0.1)\n",
            "Requirement already satisfied: tqdm<5.0.0,>=4.10.0 in /usr/local/lib/python3.6/dist-packages (from thinc<7.1.0,>=7.0.8->spacy>=2.0.18->fastai) (4.28.1)\n"
          ],
          "name": "stdout"
        }
      ]
    },
    {
      "cell_type": "code",
      "metadata": {
        "id": "Ep_PKmJgKe9r",
        "colab_type": "code",
        "colab": {}
      },
      "source": [
        "from fastai import *\n",
        "from fastai.text import *\n",
        "from pathlib import Path\n",
        "import pandas as pd\n",
        "import numpy as np\n",
        "import re"
      ],
      "execution_count": 0,
      "outputs": []
    },
    {
      "cell_type": "code",
      "metadata": {
        "id": "b3vDhHJbNYmn",
        "colab_type": "code",
        "outputId": "a2f36c2b-c6dd-45df-a86b-7a8a59fda452",
        "colab": {
          "base_uri": "https://localhost:8080/",
          "height": 156
        }
      },
      "source": [
        "!python3 -m spacy download en\n"
      ],
      "execution_count": 10,
      "outputs": [
        {
          "output_type": "stream",
          "text": [
            "Requirement already satisfied: en_core_web_sm==2.1.0 from https://github.com/explosion/spacy-models/releases/download/en_core_web_sm-2.1.0/en_core_web_sm-2.1.0.tar.gz#egg=en_core_web_sm==2.1.0 in /usr/local/lib/python3.6/dist-packages (2.1.0)\n",
            "\u001b[38;5;2m✔ Download and installation successful\u001b[0m\n",
            "You can now load the model via spacy.load('en_core_web_sm')\n",
            "\u001b[38;5;2m✔ Linking successful\u001b[0m\n",
            "/usr/local/lib/python3.6/dist-packages/en_core_web_sm -->\n",
            "/usr/local/lib/python3.6/dist-packages/spacy/data/en\n",
            "You can now load the model via spacy.load('en')\n"
          ],
          "name": "stdout"
        }
      ]
    },
    {
      "cell_type": "code",
      "metadata": {
        "id": "kiZyoaJLPfnv",
        "colab_type": "code",
        "outputId": "56eab1be-07e9-41a5-bafc-d926c1839ba7",
        "colab": {
          "base_uri": "https://localhost:8080/",
          "height": 51
        }
      },
      "source": [
        "!mkdir data\n",
        "!mkdir ./data/eval\n",
        "!ls"
      ],
      "execution_count": 11,
      "outputs": [
        {
          "output_type": "stream",
          "text": [
            "data\t\t\t  README.md\t    sample_data        ulmfit.ipynb\n",
            "pytorch-requirements.txt  requirements.txt  transformer.ipynb  vocab.pkl\n"
          ],
          "name": "stdout"
        }
      ]
    },
    {
      "cell_type": "markdown",
      "metadata": {
        "id": "zOeocwHHKe9t",
        "colab_type": "text"
      },
      "source": [
        "### Define the path to train and test data for SemEval 2016 Task 6\n",
        "The full data and evaluation files for this task is available on the [source page](http://alt.qcri.org/semeval2016/task6/index.php?id=data-and-tools). However, these have been included along with this repository for future reference. "
      ]
    },
    {
      "cell_type": "code",
      "metadata": {
        "id": "dH7iSIrjKe9u",
        "colab_type": "code",
        "colab": {}
      },
      "source": [
        "path = Path('./data')\n",
        "trainfile = 'semeval2016-task6-trainingdata.txt'\n",
        "testfile = 'SemEval2016-Task6-subtaskA-testdata.txt'"
      ],
      "execution_count": 0,
      "outputs": []
    },
    {
      "cell_type": "markdown",
      "metadata": {
        "id": "WrxvkTO7Ke9w",
        "colab_type": "text"
      },
      "source": [
        "Some of the characters in the training set are not *utf-8* encoded, hence we make sure that we only treat the characters that appear in the English language for this task."
      ]
    },
    {
      "cell_type": "code",
      "metadata": {
        "id": "jNjSz3dIKe9x",
        "colab_type": "code",
        "colab": {}
      },
      "source": [
        "def clean_ascii(text):\n",
        "    # function to remove non-ASCII chars from data\n",
        "    return ''.join(i for i in text if ord(i) < 128)"
      ],
      "execution_count": 0,
      "outputs": []
    },
    {
      "cell_type": "code",
      "metadata": {
        "id": "2Ge7aTr2Ke9z",
        "colab_type": "code",
        "colab": {}
      },
      "source": [
        "train_orig = pd.read_csv(path/trainfile, delimiter='\\t', header=0, encoding = \"latin-1\")"
      ],
      "execution_count": 0,
      "outputs": []
    },
    {
      "cell_type": "code",
      "metadata": {
        "id": "W06h39mDKe94",
        "colab_type": "code",
        "outputId": "23d752d0-da1c-4fcd-8b73-9644703c1a17",
        "colab": {
          "base_uri": "https://localhost:8080/",
          "height": 290
        }
      },
      "source": [
        "# Plot value counts for rach stance in the dataset\n",
        "train_orig['Stance'].value_counts().plot.bar(rot=30);"
      ],
      "execution_count": 15,
      "outputs": [
        {
          "output_type": "display_data",
          "data": {
            "image/png": "[encoded data removed]",
            "text/plain": [
              "<Figure size 432x288 with 1 Axes>"
            ]
          },
          "metadata": {
            "tags": []
          }
        }
      ]
    },
    {
      "cell_type": "code",
      "metadata": {
        "id": "abKkbS1kKe97",
        "colab_type": "code",
        "outputId": "e768bef4-f05e-4018-8de1-3ec0f437f704",
        "colab": {
          "base_uri": "https://localhost:8080/",
          "height": 153
        }
      },
      "source": [
        "print(\"SemEval 2016 Task 6 (subtask A) Tweet topics are:\\n\")\n",
        "print(\"------------------------------------------\")\n",
        "for item in train_orig['Target'].unique():\n",
        "    print(item)"
      ],
      "execution_count": 16,
      "outputs": [
        {
          "output_type": "stream",
          "text": [
            "SemEval 2016 Task 6 (subtask A) Tweet topics are:\n",
            "\n",
            "------------------------------------------\n",
            "Atheism\n",
            "Climate Change is a Real Concern\n",
            "Feminist Movement\n",
            "Hillary Clinton\n",
            "Legalization of Abortion\n"
          ],
          "name": "stdout"
        }
      ]
    },
    {
      "cell_type": "markdown",
      "metadata": {
        "id": "4uthwR1jKe99",
        "colab_type": "text"
      },
      "source": [
        "### Apply the cleaning function to the 'Tweet' column of the training data"
      ]
    },
    {
      "cell_type": "code",
      "metadata": {
        "id": "DY-i0QmzKe9-",
        "colab_type": "code",
        "colab": {}
      },
      "source": [
        "train_orig['Tweet'] = train_orig['Tweet'].apply(clean_ascii)"
      ],
      "execution_count": 0,
      "outputs": []
    },
    {
      "cell_type": "code",
      "metadata": {
        "id": "eYAQO3SNKe-A",
        "colab_type": "code",
        "outputId": "06691147-8145-4d01-f2f3-dfe577c9d0d2",
        "colab": {
          "base_uri": "https://localhost:8080/",
          "height": 204
        }
      },
      "source": [
        "train_orig.head()"
      ],
      "execution_count": 18,
      "outputs": [
        {
          "output_type": "execute_result",
          "data": {
            "text/html": [
              "<div>\n",
              "<style scoped>\n",
              "    .dataframe tbody tr th:only-of-type {\n",
              "        vertical-align: middle;\n",
              "    }\n",
              "\n",
              "    .dataframe tbody tr th {\n",
              "        vertical-align: top;\n",
              "    }\n",
              "\n",
              "    .dataframe thead th {\n",
              "        text-align: right;\n",
              "    }\n",
              "</style>\n",
              "<table border=\"1\" class=\"dataframe\">\n",
              "  <thead>\n",
              "    <tr style=\"text-align: right;\">\n",
              "      <th></th>\n",
              "      <th>ID</th>\n",
              "      <th>Target</th>\n",
              "      <th>Tweet</th>\n",
              "      <th>Stance</th>\n",
              "    </tr>\n",
              "  </thead>\n",
              "  <tbody>\n",
              "    <tr>\n",
              "      <th>0</th>\n",
              "      <td>101</td>\n",
              "      <td>Atheism</td>\n",
              "      <td>dear lord thank u for all of ur blessings forg...</td>\n",
              "      <td>AGAINST</td>\n",
              "    </tr>\n",
              "    <tr>\n",
              "      <th>1</th>\n",
              "      <td>102</td>\n",
              "      <td>Atheism</td>\n",
              "      <td>Blessed are the peacemakers, for they shall be...</td>\n",
              "      <td>AGAINST</td>\n",
              "    </tr>\n",
              "    <tr>\n",
              "      <th>2</th>\n",
              "      <td>103</td>\n",
              "      <td>Atheism</td>\n",
              "      <td>I am not conformed to this world. I am transfo...</td>\n",
              "      <td>AGAINST</td>\n",
              "    </tr>\n",
              "    <tr>\n",
              "      <th>3</th>\n",
              "      <td>104</td>\n",
              "      <td>Atheism</td>\n",
              "      <td>Salah should be prayed with #focus and #unders...</td>\n",
              "      <td>AGAINST</td>\n",
              "    </tr>\n",
              "    <tr>\n",
              "      <th>4</th>\n",
              "      <td>105</td>\n",
              "      <td>Atheism</td>\n",
              "      <td>And stay in your houses and do not display you...</td>\n",
              "      <td>AGAINST</td>\n",
              "    </tr>\n",
              "  </tbody>\n",
              "</table>\n",
              "</div>"
            ],
            "text/plain": [
              "    ID   Target                                              Tweet   Stance\n",
              "0  101  Atheism  dear lord thank u for all of ur blessings forg...  AGAINST\n",
              "1  102  Atheism  Blessed are the peacemakers, for they shall be...  AGAINST\n",
              "2  103  Atheism  I am not conformed to this world. I am transfo...  AGAINST\n",
              "3  104  Atheism  Salah should be prayed with #focus and #unders...  AGAINST\n",
              "4  105  Atheism  And stay in your houses and do not display you...  AGAINST"
            ]
          },
          "metadata": {
            "tags": []
          },
          "execution_count": 18
        }
      ]
    },
    {
      "cell_type": "markdown",
      "metadata": {
        "id": "DVvGaglbKe-C",
        "colab_type": "text"
      },
      "source": [
        "### Store the relevant information from training data \n",
        "ULMFit requires just the stance and the text data (i.e. tweets) for the language-model finetuning and classification steps, hence these are stored in a DataFrame."
      ]
    },
    {
      "cell_type": "code",
      "metadata": {
        "id": "uLcdljCfKe-D",
        "colab_type": "code",
        "outputId": "b55e6863-4997-407e-f22d-1f7e87d48233",
        "colab": {
          "base_uri": "https://localhost:8080/",
          "height": 204
        }
      },
      "source": [
        "train = pd.concat([train_orig['Stance'], train_orig['Tweet']], axis=1)\n",
        "train.tail()"
      ],
      "execution_count": 19,
      "outputs": [
        {
          "output_type": "execute_result",
          "data": {
            "text/html": [
              "<div>\n",
              "<style scoped>\n",
              "    .dataframe tbody tr th:only-of-type {\n",
              "        vertical-align: middle;\n",
              "    }\n",
              "\n",
              "    .dataframe tbody tr th {\n",
              "        vertical-align: top;\n",
              "    }\n",
              "\n",
              "    .dataframe thead th {\n",
              "        text-align: right;\n",
              "    }\n",
              "</style>\n",
              "<table border=\"1\" class=\"dataframe\">\n",
              "  <thead>\n",
              "    <tr style=\"text-align: right;\">\n",
              "      <th></th>\n",
              "      <th>Stance</th>\n",
              "      <th>Tweet</th>\n",
              "    </tr>\n",
              "  </thead>\n",
              "  <tbody>\n",
              "    <tr>\n",
              "      <th>2809</th>\n",
              "      <td>AGAINST</td>\n",
              "      <td>There's a law protecting unborn eagles, but no...</td>\n",
              "    </tr>\n",
              "    <tr>\n",
              "      <th>2810</th>\n",
              "      <td>AGAINST</td>\n",
              "      <td>I am 1 in 3... I have had an abortion #Abortio...</td>\n",
              "    </tr>\n",
              "    <tr>\n",
              "      <th>2811</th>\n",
              "      <td>AGAINST</td>\n",
              "      <td>How dare you say my sexual preference is a cho...</td>\n",
              "    </tr>\n",
              "    <tr>\n",
              "      <th>2812</th>\n",
              "      <td>AGAINST</td>\n",
              "      <td>Equal rights for those 'born that way', no rig...</td>\n",
              "    </tr>\n",
              "    <tr>\n",
              "      <th>2813</th>\n",
              "      <td>AGAINST</td>\n",
              "      <td>#POTUS seals his legacy w/ 1/2 doz wins. The #...</td>\n",
              "    </tr>\n",
              "  </tbody>\n",
              "</table>\n",
              "</div>"
            ],
            "text/plain": [
              "       Stance                                              Tweet\n",
              "2809  AGAINST  There's a law protecting unborn eagles, but no...\n",
              "2810  AGAINST  I am 1 in 3... I have had an abortion #Abortio...\n",
              "2811  AGAINST  How dare you say my sexual preference is a cho...\n",
              "2812  AGAINST  Equal rights for those 'born that way', no rig...\n",
              "2813  AGAINST  #POTUS seals his legacy w/ 1/2 doz wins. The #..."
            ]
          },
          "metadata": {
            "tags": []
          },
          "execution_count": 19
        }
      ]
    },
    {
      "cell_type": "code",
      "metadata": {
        "id": "duqhaDXYKe-F",
        "colab_type": "code",
        "colab": {}
      },
      "source": [
        "# Write train to csv\n",
        "train.to_csv(path/'train.csv', index=False, header=False)"
      ],
      "execution_count": 0,
      "outputs": []
    },
    {
      "cell_type": "markdown",
      "metadata": {
        "id": "5q4EvMMxKe-H",
        "colab_type": "text"
      },
      "source": [
        "# 4. Experimental Setup\n",
        "\n",
        "Stance detection uses a *semi-supervised approach* where we reuse weights from a pretrained language model (in this case ```wikitext-103```) and perform multi-class classification on the training data over the three classes (*FAVOR*, *AGAINST* and *NONE*).\n",
        "\n",
        "### Evaluation\n",
        "The metric used to score the stance classification is **F-score**. The event organizers provide an [evaluation script](http://alt.qcri.org/semeval2016/task6/index.php?id=data-and-tools) that calculates the macro-average of F-score (FAVOR) and F-score (AGAINST) for task A. This compares our model's predicted stance for each Tweet against the gold reference.\n",
        "\n",
        "The *perl* script provided by the organizers is used to generate an F- score. The evaluation script is in ```data/eval/``` and has the following usage:\n",
        "    \n",
        "    cd data/eval\n",
        "    perl eval.pl -u\n",
        "\n",
        "    ---------------------------\n",
        "    Usage:\n",
        "    perl eval.pl goldFile guessFile\n",
        "\n",
        "    goldFile:  file containing gold standards;\n",
        "    guessFile: file containing your prediction.\n",
        "\n",
        "### Reference result\n",
        "To have a benchmark to compare our results against, it makes sense to look at the winning paper for this shared task, from team *MITRE*, who [published their methodology and approach](https://arxiv.org/pdf/1606.03784.pdf). From this paper, it can be seen that *MITRE* used an LSTM-based deep learning approach and performed per-topic classification of Tweets to achieve an average macro F-score of **0.67**. \n",
        "\n",
        "### Stance Prediction\n",
        "The predicted output stances on the test dataset is written out according to the format expected by the evaluation *perl* script, and the F-scores are published as per this evaluation."
      ]
    },
    {
      "cell_type": "markdown",
      "metadata": {
        "id": "8nwxA-tkKe-I",
        "colab_type": "text"
      },
      "source": [
        "# 5. Transfer Learning Stages\n",
        "\n",
        "This notebook utilizes the refactored and updated version (```v1```) of *ULMFit* as implemented in the [fastai](https://github.com/fastai/fastai/tree/master/fastai)  GitHub repository. This requires an install of **Pytorch 1.0.0** ([released on December 7, 2018](https://developers.facebook.com/blog/post/2018/05/02/announcing-pytorch-1.0-for-research-production/)) to run since its development intended to move alongside PyTorch's own development cycle in the future. It is recommended to run this entire notebook in a virtual environment to avoid clashes with pre-existing installs of PyTorch.\n",
        "\n",
        "The refactored code for *ULMFit* is much more high-level and abstracted than the original version that was used in the paper, so it doesn't make sense to rewrite the data manipulation code for text handling and tokenization from the ground up. We can take advantage of the powerful transfer learning functionality that is baked into ULMFit (obtained after months of fine-tuning and refactoring the source code by Fast.ai) instead! "
      ]
    },
    {
      "cell_type": "markdown",
      "metadata": {
        "id": "1guRxd1yKe-I",
        "colab_type": "text"
      },
      "source": [
        "## 5.1 Language model finetuning: (SemEval Tweets only)\n",
        "The pre-trained language model used is from [this work by Merity et al.](https://arxiv.org/pdf/1708.02182.pdf). Although we are working with Twitter whose content's structure that can be quite dissimilar to Wikipedia's sentence formulation, the hope is that the language understanding developed by the model, in combination with the fine-tuning techniques described in [Howard and Ruder's paper](https://arxiv.org/pdf/1801.06146.pdf), will allow us to at least transfer some knowledge for the purposes of classification of Tweet stance."
      ]
    },
    {
      "cell_type": "markdown",
      "metadata": {
        "id": "W3UnWXG2Ke-J",
        "colab_type": "text"
      },
      "source": [
        "### Preprocess data for language model fine-tuning\n",
        "The ```TextLMDataBunch```[ [source]](https://docs.fast.ai/text.data.html#TextLMDataBunch) class returns a \"Databunch\" type of object that is a custom object defined in fastai.text's API. Note that according to this class definition, a significant amount of data pre-processing is going on under the hood. \n",
        "\n",
        "- Initialize the language model with the pre-trained vocabulary's weights\n",
        "- Create a custom data loader that \"batchifies\" the target task's vocabulary, i.e. split it up into batches for processing on the GPU\n",
        "- Introduce randomness into the batches, but without breaking up the sentence sequences using techniques [borrowed from language modeling](https://arxiv.org/pdf/1708.02182.pdf).\n",
        "- Tokenize the target task's vocabulary and increase the efficiency of tokenization (for large tasks) using multi-threading\n",
        " "
      ]
    },
    {
      "cell_type": "code",
      "metadata": {
        "id": "fLi1Cup1Ke-K",
        "colab_type": "code",
        "colab": {}
      },
      "source": [
        "# Language model data\n",
        "data_lm = TextLMDataBunch.from_csv(path, 'train.csv', min_freq=1)"
      ],
      "execution_count": 0,
      "outputs": []
    },
    {
      "cell_type": "markdown",
      "metadata": {
        "id": "DMgiArYPKe-M",
        "colab_type": "text"
      },
      "source": [
        "Note that in this case, we specify a minimum word frequency of 1 (i.e. words that appear just once in the data are given the tag ```<unk>``` during tokenization."
      ]
    },
    {
      "cell_type": "code",
      "metadata": {
        "id": "pIqEBZ7xKe-N",
        "colab_type": "code",
        "colab": {}
      },
      "source": [
        "# Save the language and classifier model data for re-use\n",
        "data_lm.save()"
      ],
      "execution_count": 0,
      "outputs": []
    },
    {
      "cell_type": "code",
      "metadata": {
        "id": "XVUzBrJ-Ke-P",
        "colab_type": "code",
        "colab": {}
      },
      "source": [
        "# # Reload LM and clas data from file if doing so for large cases\n",
        "# data_lm = TextLMDataBunch.load(path)\n",
        "# data_clas = TextClasDataBunch.load(path, bs=32)"
      ],
      "execution_count": 0,
      "outputs": []
    },
    {
      "cell_type": "code",
      "metadata": {
        "id": "4kox9e78Ke-R",
        "colab_type": "code",
        "outputId": "13b364a7-3685-4c49-f63a-a66e7bf73c3c",
        "colab": {
          "base_uri": "https://localhost:8080/",
          "height": 408
        }
      },
      "source": [
        "data_lm.show_batch()"
      ],
      "execution_count": 23,
      "outputs": [
        {
          "output_type": "display_data",
          "data": {
            "text/html": [
              "<table border=\"1\" class=\"dataframe\">\n",
              "  <thead>\n",
              "    <tr style=\"text-align: right;\">\n",
              "      <th>idx</th>\n",
              "      <th>text</th>\n",
              "    </tr>\n",
              "  </thead>\n",
              "  <tbody>\n",
              "    <tr>\n",
              "      <td>0</td>\n",
              "      <td>social justice warrior go out and do something . xxmaj get off tumblr . # semst xxbos xxmaj if ozone science had been ignored by your dad , @jebbush we would be in dire straits right now . xxmaj could you thank him for us ? # semst xxbos xxmaj also , i finally moved to xxup @fdcity today ! xxmaj will be much easier to get around going forward</td>\n",
              "    </tr>\n",
              "    <tr>\n",
              "      <td>1</td>\n",
              "      <td>let 's get xxup scotus to rule that \" xxmaj under xxmaj god \" on the currency violates the xxmaj establishment xxmaj clause . # freethinker # semst xxbos i 'd still rather have xxmaj aaron xxmaj hernandez as xxmaj president than xxmaj hillary . # semst xxbos @toby_dorena xxmaj any pregnancy can turn deadly at any time , without warning . i ca n't force that on someone .</td>\n",
              "    </tr>\n",
              "    <tr>\n",
              "      <td>2</td>\n",
              "      <td># clinton2016 # semst xxbos xxmaj do n't see the big deal about all this # semst xxbos @socalimilitia1 @czaroffreedom xxmaj that xxmaj god for global warming melting icebergs , never gets prosecuted for her crimes # xxmaj liberals # semst xxbos xxmaj selective listening a # character trait of convenience # feminists # semst xxbos xxmaj just heard the most inspiring interview w one of my heroines @monaeltahawy on</td>\n",
              "    </tr>\n",
              "    <tr>\n",
              "      <td>3</td>\n",
              "      <td>xxbos xxmaj lol why do so many people around here hate xxmaj hillary ? # semst xxbos xxmaj radios r filled with feminist and rape propaganda . xxmaj feminism is alive n well in xxmaj malaysia . xxmaj their rape guilt tactics wo n't silence me # semst xxbos @pennyred oh the irony of a radfem accusing others of low self - esteem . # gamergate # semst xxbos #</td>\n",
              "    </tr>\n",
              "    <tr>\n",
              "      <td>4</td>\n",
              "      <td># morningjoe # unitedblue # semst xxbos xxmaj assaulting &amp; manipulating pregnant people does n't reduce # semst xxbos @stevenertelt @gm_gxpfan xxmaj my wife had an abortion when she was young xxmaj she regrets it to this day # semst xxbos # peoplesdebate xxmaj better every child born out of marriage + every mothers get # loneparents allowance than there be a single # vinb # semst xxbos xxup worldwide</td>\n",
              "    </tr>\n",
              "  </tbody>\n",
              "</table>"
            ],
            "text/plain": [
              "<IPython.core.display.HTML object>"
            ]
          },
          "metadata": {
            "tags": []
          }
        }
      ]
    },
    {
      "cell_type": "markdown",
      "metadata": {
        "id": "aPoPznGaKe-T",
        "colab_type": "text"
      },
      "source": [
        "We only need to run the above tokenization step once, and save the data. All the data goes to a local folder named ```tmp/```. For a large added vocabulary, the above tokenization step can take a while, hence we save them and restart the notebook from the next cell (if we close our session).\n",
        "\n",
        "The tokenization technique used by ```fastai.text``` is quite advanced, and uses quite a few tricks to capture semantic meaning from the text. Unlike typical NLTK-type tokenization, here we are not converting the Tweets to lowercase and removing information from the base text - that would result in a tremendous loss of information that our model could use to gather an understanding of our new task's vocabulary.\n",
        "\n",
        "Instead, a number of added tokens are applied so that minimal information is lost. A full list of all the tokenization rules used are [here](https://docs.fast.ai/text.transform.html#Rules). \n",
        "\n",
        "As an example, the ```xxmaj``` token [[source]](https://github.com/fastai/fastai/blob/1c5c007e10a187f4a048a3ee8137016534259768/fastai/text/transform.py#L71) indicates that there is capitalization of the word, either in part or in full. \"The\" will be tokenized as \"xxmaj the\". For words that are full capitalized, such as \"I AM SHOUTING\"; it is tokenized as \"xxup i xxup am xxup shouting\". The tokenizer uses spaCy's underlying tokens, but adds tags in a very smart way that balances capturing semantic meaning while reducing the number of overall tokens, so it is both powerful and efficient. \n",
        "\n",
        "The tokenization process described above is highly efficient, in part thanks to the power of *SpaCy* and also due to the multi-threading wrappers implemented by Fast.ai on top of Spacy's tokenizer. As a result, a really large language model's vocabulary (of millions of words) can also be effectively tokenized in a reasonable time. "
      ]
    },
    {
      "cell_type": "markdown",
      "metadata": {
        "id": "FWEogaASKe-U",
        "colab_type": "text"
      },
      "source": [
        "### Define learner object for language model finetuning\n",
        "We define a learner object that uses the tokenized language model data, that is organized into batches for the GPU, and feed it a pre-trained language model. \n",
        "\n",
        "We use the ```wt_103_v1``` model that was refined after re-training using the more efficient ```fastai v1``` library. The data (```lstm_wt103.pth```) is downloaded through an AWS-hosted link (accessed through the ```fastai.datasets``` interface), and stored locally. All the data in the language model file is numericalized and stored in a way that the learner can efficiently pick up tokens in float form. In addition to the language model, there is also an additional pickle object ```itos_wt103.pkl``` that is similar to the ```torchtext``` definition of \"integer-to-string\" - this contains the list of unique tokens in word form, so that we can map the tokens back to strings if necessary."
      ]
    },
    {
      "cell_type": "code",
      "metadata": {
        "id": "6L10Y73pXad5",
        "colab_type": "code",
        "colab": {}
      },
      "source": [
        ""
      ],
      "execution_count": 0,
      "outputs": []
    },
    {
      "cell_type": "code",
      "metadata": {
        "id": "16GDruZ7Ke-V",
        "colab_type": "code",
        "colab": {}
      },
      "source": [
        "learn = language_model_learner(data_lm, AWD_LSTM, pretrained=True, drop_mult=0.1)"
      ],
      "execution_count": 0,
      "outputs": []
    },
    {
      "cell_type": "markdown",
      "metadata": {
        "id": "OGa8UJRdKe-Z",
        "colab_type": "text"
      },
      "source": [
        "### Print the structure of the language model RNN \n",
        "We can examine the architecture of the 3-layer LSTM used in ULMFit as shown below. For the language model fine-tuning, we define the embeddings based on the the target task vocabulary size. A single linear output layer is defined  that updates the weights once we pass the input through the network."
      ]
    },
    {
      "cell_type": "code",
      "metadata": {
        "id": "UGLmn9nXKe-b",
        "colab_type": "code",
        "outputId": "0e9288f6-578c-409e-dedc-4812b80bdb1d",
        "colab": {
          "base_uri": "https://localhost:8080/",
          "height": 459
        }
      },
      "source": [
        "list(learn.model.children())"
      ],
      "execution_count": 25,
      "outputs": [
        {
          "output_type": "execute_result",
          "data": {
            "text/plain": [
              "[AWD_LSTM(\n",
              "   (encoder): Embedding(8040, 400, padding_idx=1)\n",
              "   (encoder_dp): EmbeddingDropout(\n",
              "     (emb): Embedding(8040, 400, padding_idx=1)\n",
              "   )\n",
              "   (rnns): ModuleList(\n",
              "     (0): WeightDropout(\n",
              "       (module): LSTM(400, 1152, batch_first=True)\n",
              "     )\n",
              "     (1): WeightDropout(\n",
              "       (module): LSTM(1152, 1152, batch_first=True)\n",
              "     )\n",
              "     (2): WeightDropout(\n",
              "       (module): LSTM(1152, 400, batch_first=True)\n",
              "     )\n",
              "   )\n",
              "   (input_dp): RNNDropout()\n",
              "   (hidden_dps): ModuleList(\n",
              "     (0): RNNDropout()\n",
              "     (1): RNNDropout()\n",
              "     (2): RNNDropout()\n",
              "   )\n",
              " ), LinearDecoder(\n",
              "   (decoder): Linear(in_features=400, out_features=8040, bias=True)\n",
              "   (output_dp): RNNDropout()\n",
              " )]"
            ]
          },
          "metadata": {
            "tags": []
          },
          "execution_count": 25
        }
      ]
    },
    {
      "cell_type": "markdown",
      "metadata": {
        "id": "r--XDBOQKe-d",
        "colab_type": "text"
      },
      "source": [
        "### Find the optimum learning rate \n",
        "```fastai.train``` [source](https://github.com/fastai/fastai/blob/050080be574cb1260462bbd03e9600e43e7a54b1/fastai/train.py#L23) provides a convenient utility to search through a range of learning rates to find the optimum one for our dataset. \n",
        "\n",
        "The idea is that our optimization function needs to use a learning rate that is an order of magnitude below the point at which the loss starts to diverge. We can quickly find this as shown below. "
      ]
    },
    {
      "cell_type": "code",
      "metadata": {
        "id": "7NN2qUp-Ke-d",
        "colab_type": "code",
        "outputId": "f044210e-bed6-4659-db96-e15bef89676a",
        "colab": {
          "base_uri": "https://localhost:8080/",
          "height": 300
        }
      },
      "source": [
        "learn.lr_find(start_lr=1e-8, end_lr=1e2)\n",
        "learn.recorder.plot()"
      ],
      "execution_count": 26,
      "outputs": [
        {
          "output_type": "display_data",
          "data": {
            "text/html": [
              ""
            ],
            "text/plain": [
              "<IPython.core.display.HTML object>"
            ]
          },
          "metadata": {
            "tags": []
          }
        },
        {
          "output_type": "stream",
          "text": [
            "LR Finder is complete, type {learner_name}.recorder.plot() to see the graph.\n"
          ],
          "name": "stdout"
        },
        {
          "output_type": "display_data",
          "data": {
            "image/png": "[encoded data removed]",
            "text/plain": [
              "<Figure size 432x288 with 1 Axes>"
            ]
          },
          "metadata": {
            "tags": []
          }
        }
      ]
    },
    {
      "cell_type": "markdown",
      "metadata": {
        "id": "P-po3gItKe-f",
        "colab_type": "text"
      },
      "source": [
        "### Run the ```language_model_learner``` class\n",
        "The pre-trained language model quickly downloads from the ```fastai```'s AWS link, so there is no need to download it separately. [```drop_mult```] is the multiplier applied to the dropout in the language learner. As per the ULMFit paper, we use a custom dropout for each language model layer, and the ```drop_mult```just scales a [numpy array of these dropouts](https://github.com/fastai/fastai/blob/1c5c007e10a187f4a048a3ee8137016534259768/fastai/text/learner.py#L15) which remain in the same relative ratio to one another. These numbers have been obtained through empirical tuning for a range of language tasks, and we took note of this during our extensive reading on this task."
      ]
    },
    {
      "cell_type": "code",
      "metadata": {
        "id": "hLL4OvbsFMYW",
        "colab_type": "code",
        "colab": {}
      },
      "source": [
        ""
      ],
      "execution_count": 0,
      "outputs": []
    },
    {
      "cell_type": "code",
      "metadata": {
        "id": "q2avqiJOKe-g",
        "colab_type": "code",
        "outputId": "83384322-38b5-4a17-be5b-3e7318976c3c",
        "colab": {
          "base_uri": "https://localhost:8080/",
          "height": 80
        }
      },
      "source": [
        "learn = language_model_learner(data_lm, AWD_LSTM, pretrained=True, \n",
        "                               drop_mult=0.5)\n",
        "learn.fit_one_cycle(cyc_len=1, max_lr=1e-3, moms=(0.8, 0.7))"
      ],
      "execution_count": 27,
      "outputs": [
        {
          "output_type": "display_data",
          "data": {
            "text/html": [
              "<table border=\"1\" class=\"dataframe\">\n",
              "  <thead>\n",
              "    <tr style=\"text-align: left;\">\n",
              "      <th>epoch</th>\n",
              "      <th>train_loss</th>\n",
              "      <th>valid_loss</th>\n",
              "      <th>accuracy</th>\n",
              "      <th>time</th>\n",
              "    </tr>\n",
              "  </thead>\n",
              "  <tbody>\n",
              "    <tr>\n",
              "      <td>0</td>\n",
              "      <td>6.542792</td>\n",
              "      <td>5.591176</td>\n",
              "      <td>0.174944</td>\n",
              "      <td>00:05</td>\n",
              "    </tr>\n",
              "  </tbody>\n",
              "</table>"
            ],
            "text/plain": [
              "<IPython.core.display.HTML object>"
            ]
          },
          "metadata": {
            "tags": []
          }
        }
      ]
    },
    {
      "cell_type": "markdown",
      "metadata": {
        "id": "mVqlRARkKe-j",
        "colab_type": "text"
      },
      "source": [
        "### Unfreeze the entire model \n",
        "To train the language model during fine-tuning, we unfreeze all the layers and then perform training for a reasonable time until we obtain a low enough validation loss. For a larger target vocabulary, these hyperparameters might need to be modified, and teh training time would be significantly longer, but for this SemEval task, we have a very small additional vocabulary to fine-tune the language model on, so it is really quick.\n"
      ]
    },
    {
      "cell_type": "code",
      "metadata": {
        "id": "s-vIrFY8Ke-j",
        "colab_type": "code",
        "outputId": "887c70f0-447d-4e46-8f59-ec8d2c31cf06",
        "colab": {
          "base_uri": "https://localhost:8080/",
          "height": 669
        }
      },
      "source": [
        "learn.unfreeze()\n",
        "learn.fit_one_cycle(cyc_len=20, max_lr=1e-3, moms=(0.8, 0.7))"
      ],
      "execution_count": 28,
      "outputs": [
        {
          "output_type": "display_data",
          "data": {
            "text/html": [
              "<table border=\"1\" class=\"dataframe\">\n",
              "  <thead>\n",
              "    <tr style=\"text-align: left;\">\n",
              "      <th>epoch</th>\n",
              "      <th>train_loss</th>\n",
              "      <th>valid_loss</th>\n",
              "      <th>accuracy</th>\n",
              "      <th>time</th>\n",
              "    </tr>\n",
              "  </thead>\n",
              "  <tbody>\n",
              "    <tr>\n",
              "      <td>0</td>\n",
              "      <td>5.998479</td>\n",
              "      <td>4.757399</td>\n",
              "      <td>0.233984</td>\n",
              "      <td>00:06</td>\n",
              "    </tr>\n",
              "    <tr>\n",
              "      <td>1</td>\n",
              "      <td>5.604052</td>\n",
              "      <td>4.570498</td>\n",
              "      <td>0.246484</td>\n",
              "      <td>00:06</td>\n",
              "    </tr>\n",
              "    <tr>\n",
              "      <td>2</td>\n",
              "      <td>5.340018</td>\n",
              "      <td>4.516200</td>\n",
              "      <td>0.261551</td>\n",
              "      <td>00:06</td>\n",
              "    </tr>\n",
              "    <tr>\n",
              "      <td>3</td>\n",
              "      <td>5.148176</td>\n",
              "      <td>4.500738</td>\n",
              "      <td>0.273661</td>\n",
              "      <td>00:06</td>\n",
              "    </tr>\n",
              "    <tr>\n",
              "      <td>4</td>\n",
              "      <td>4.961192</td>\n",
              "      <td>4.418712</td>\n",
              "      <td>0.279967</td>\n",
              "      <td>00:06</td>\n",
              "    </tr>\n",
              "    <tr>\n",
              "      <td>5</td>\n",
              "      <td>4.741420</td>\n",
              "      <td>4.328266</td>\n",
              "      <td>0.310268</td>\n",
              "      <td>00:06</td>\n",
              "    </tr>\n",
              "    <tr>\n",
              "      <td>6</td>\n",
              "      <td>4.509231</td>\n",
              "      <td>4.242926</td>\n",
              "      <td>0.308929</td>\n",
              "      <td>00:06</td>\n",
              "    </tr>\n",
              "    <tr>\n",
              "      <td>7</td>\n",
              "      <td>4.288021</td>\n",
              "      <td>4.340034</td>\n",
              "      <td>0.288114</td>\n",
              "      <td>00:06</td>\n",
              "    </tr>\n",
              "    <tr>\n",
              "      <td>8</td>\n",
              "      <td>4.060753</td>\n",
              "      <td>4.300144</td>\n",
              "      <td>0.311328</td>\n",
              "      <td>00:06</td>\n",
              "    </tr>\n",
              "    <tr>\n",
              "      <td>9</td>\n",
              "      <td>3.826833</td>\n",
              "      <td>4.387594</td>\n",
              "      <td>0.312612</td>\n",
              "      <td>00:06</td>\n",
              "    </tr>\n",
              "    <tr>\n",
              "      <td>10</td>\n",
              "      <td>3.595011</td>\n",
              "      <td>4.408453</td>\n",
              "      <td>0.309040</td>\n",
              "      <td>00:06</td>\n",
              "    </tr>\n",
              "    <tr>\n",
              "      <td>11</td>\n",
              "      <td>3.366586</td>\n",
              "      <td>4.493865</td>\n",
              "      <td>0.305580</td>\n",
              "      <td>00:06</td>\n",
              "    </tr>\n",
              "    <tr>\n",
              "      <td>12</td>\n",
              "      <td>3.155848</td>\n",
              "      <td>4.578321</td>\n",
              "      <td>0.304018</td>\n",
              "      <td>00:06</td>\n",
              "    </tr>\n",
              "    <tr>\n",
              "      <td>13</td>\n",
              "      <td>2.985123</td>\n",
              "      <td>4.548557</td>\n",
              "      <td>0.302734</td>\n",
              "      <td>00:06</td>\n",
              "    </tr>\n",
              "    <tr>\n",
              "      <td>14</td>\n",
              "      <td>2.812887</td>\n",
              "      <td>4.647838</td>\n",
              "      <td>0.300893</td>\n",
              "      <td>00:06</td>\n",
              "    </tr>\n",
              "    <tr>\n",
              "      <td>15</td>\n",
              "      <td>2.652774</td>\n",
              "      <td>4.695408</td>\n",
              "      <td>0.300558</td>\n",
              "      <td>00:06</td>\n",
              "    </tr>\n",
              "    <tr>\n",
              "      <td>16</td>\n",
              "      <td>2.520482</td>\n",
              "      <td>4.712388</td>\n",
              "      <td>0.301674</td>\n",
              "      <td>00:06</td>\n",
              "    </tr>\n",
              "    <tr>\n",
              "      <td>17</td>\n",
              "      <td>2.412924</td>\n",
              "      <td>4.724608</td>\n",
              "      <td>0.301116</td>\n",
              "      <td>00:06</td>\n",
              "    </tr>\n",
              "    <tr>\n",
              "      <td>18</td>\n",
              "      <td>2.326662</td>\n",
              "      <td>4.724075</td>\n",
              "      <td>0.300502</td>\n",
              "      <td>00:06</td>\n",
              "    </tr>\n",
              "    <tr>\n",
              "      <td>19</td>\n",
              "      <td>2.255190</td>\n",
              "      <td>4.728254</td>\n",
              "      <td>0.301060</td>\n",
              "      <td>00:06</td>\n",
              "    </tr>\n",
              "  </tbody>\n",
              "</table>"
            ],
            "text/plain": [
              "<IPython.core.display.HTML object>"
            ]
          },
          "metadata": {
            "tags": []
          }
        }
      ]
    },
    {
      "cell_type": "code",
      "metadata": {
        "id": "m-CYJmOfKe-l",
        "colab_type": "code",
        "colab": {}
      },
      "source": [
        "# Save the fine-tuned encoder\n",
        "learn.save_encoder('ft_enc')"
      ],
      "execution_count": 0,
      "outputs": []
    },
    {
      "cell_type": "markdown",
      "metadata": {
        "id": "T6o1Hu9TKe-m",
        "colab_type": "text"
      },
      "source": [
        "## 5.2 Train the Classifier: SemEval Tweets only"
      ]
    },
    {
      "cell_type": "markdown",
      "metadata": {
        "id": "bSjdu6QAKe-n",
        "colab_type": "text"
      },
      "source": [
        "For classification, the [winning paper for the SemEval 2016](https://www.aclweb.org/anthology/S/S16/S16-1074.pdf) task (team MITRE) describe in section $5$ of their paper that they achieved their highest average F1 score when they trained 5 *distinct* classifiers, i.e. a separate training task for each of the 5 topics in the training data. \n",
        "\n",
        "Hence, in this notebook we only perform classification for one *topic* at a time. Evaluation of the predicted classes is also done on a per-topic basis. "
      ]
    },
    {
      "cell_type": "markdown",
      "metadata": {
        "id": "_I61Kf4CKe-q",
        "colab_type": "text"
      },
      "source": [
        "### Identify the 5 topics in our training data"
      ]
    },
    {
      "cell_type": "code",
      "metadata": {
        "id": "0AAORFu7Ke-q",
        "colab_type": "code",
        "outputId": "6ab6d71c-6058-4f12-9b90-e067cce1001c",
        "colab": {
          "base_uri": "https://localhost:8080/",
          "height": 102
        }
      },
      "source": [
        "for item in train_orig.Target.unique():\n",
        "    print(item)"
      ],
      "execution_count": 30,
      "outputs": [
        {
          "output_type": "stream",
          "text": [
            "Atheism\n",
            "Climate Change is a Real Concern\n",
            "Feminist Movement\n",
            "Hillary Clinton\n",
            "Legalization of Abortion\n"
          ],
          "name": "stdout"
        }
      ]
    },
    {
      "cell_type": "markdown",
      "metadata": {
        "id": "4E8iLdj-Ke-s",
        "colab_type": "text"
      },
      "source": [
        "### Specify the topic we want to classify for\n",
        "We specify the topic name exactly as the training data does, and use it to subset the Pandas DataFrame."
      ]
    },
    {
      "cell_type": "code",
      "metadata": {
        "id": "7q5W78hGKe-t",
        "colab_type": "code",
        "colab": {}
      },
      "source": [
        "topic = \"Feminist Movement\""
      ],
      "execution_count": 0,
      "outputs": []
    },
    {
      "cell_type": "code",
      "metadata": {
        "id": "h-sAR8UGKe-u",
        "colab_type": "code",
        "colab": {}
      },
      "source": [
        "# Get only those tweets that pertain to a single topic in the training data\n",
        "train_topic = train.loc[train_orig['Target'] == topic]"
      ],
      "execution_count": 0,
      "outputs": []
    },
    {
      "cell_type": "code",
      "metadata": {
        "id": "9sewIfVJ5eFz",
        "colab_type": "code",
        "outputId": "2847408f-8a28-4998-d0d3-f1e11da98194",
        "colab": {
          "base_uri": "https://localhost:8080/",
          "height": 34
        }
      },
      "source": [
        "len(train_topic)"
      ],
      "execution_count": 33,
      "outputs": [
        {
          "output_type": "execute_result",
          "data": {
            "text/plain": [
              "664"
            ]
          },
          "metadata": {
            "tags": []
          },
          "execution_count": 33
        }
      ]
    },
    {
      "cell_type": "code",
      "metadata": {
        "id": "uvyOnjDnKe-w",
        "colab_type": "code",
        "colab": {}
      },
      "source": [
        "# Write train to csv\n",
        "train.to_csv(path/'train_topic.csv', index=False, header=False)"
      ],
      "execution_count": 0,
      "outputs": []
    },
    {
      "cell_type": "markdown",
      "metadata": {
        "id": "ttHa5uMoKe-x",
        "colab_type": "text"
      },
      "source": [
        "### Create classification dataloader\n",
        "For classification, the ```TextClasDataBunch```  [[source](https://docs.fast.ai/text.data.html#TextClasDataBunch)] dataloader used is slightly different. Just like the language model custom data loader described in the previous section, it does a lot under the hood. The classification data loader tokenizes the training data, but batchifies the data differently from the language model data loader - for classification, we perform sorting so as to group all large sentences together, and smaller sentences together - and pad them to have all batches of roughly the same length, followed by randomizing these batches so that we don't introduce additional bias during training.\n",
        "\n",
        "Just like before, we define the learner object used for classification. Note that we feed in the entire vocabulary of the training data to the classifier. We once more specify a minimum word frequency of 1 (i.e. words that appear just once in the data are given the tag ```<unk>```."
      ]
    },
    {
      "cell_type": "code",
      "metadata": {
        "id": "9FaaySn-Ke-y",
        "colab_type": "code",
        "colab": {}
      },
      "source": [
        "# Classifier model data\n",
        "data_clas = TextClasDataBunch.from_csv(path, 'train_topic.csv', vocab=data_lm.train_ds.vocab,\n",
        "                                       min_freq=1, bs=32)\n",
        "data_clas.save()"
      ],
      "execution_count": 0,
      "outputs": []
    },
    {
      "cell_type": "code",
      "metadata": {
        "id": "BePwIR24Ke-z",
        "colab_type": "code",
        "colab": {}
      },
      "source": [
        "learn = text_classifier_learner(data_clas,AWD_LSTM,pretrained=True, drop_mult=0.5)\n",
        "learn.load_encoder('ft_enc')\n",
        "learn.freeze()"
      ],
      "execution_count": 0,
      "outputs": []
    },
    {
      "cell_type": "markdown",
      "metadata": {
        "id": "O0f4YIBcKe-1",
        "colab_type": "text"
      },
      "source": [
        "Note that we begin the training with all the outer layers as frozen. The fine-tuned language model is read in, and we use a dropout multiplier as shown above. \n",
        "\n",
        "For training the classifier, we apply \"gradual unfreezing\", to avoid \"catastrophic forgetting\" as explained in section $3.3$ of [Howard and Ruder's paper](https://arxiv.org/pdf/1801.06146.pdf). In addition to gradual unfreezing, "
      ]
    },
    {
      "cell_type": "markdown",
      "metadata": {
        "id": "VQD7U3whKe-2",
        "colab_type": "text"
      },
      "source": [
        "### Just as before, find optimum learning rate for the classifier"
      ]
    },
    {
      "cell_type": "code",
      "metadata": {
        "id": "1gBIEG7FKe-2",
        "colab_type": "code",
        "outputId": "852fc7a6-f3a8-48ca-940d-9a5c1c3dceb3",
        "colab": {
          "base_uri": "https://localhost:8080/",
          "height": 300
        }
      },
      "source": [
        "learn.lr_find(start_lr=1e-8, end_lr=1e2)\n",
        "learn.recorder.plot()"
      ],
      "execution_count": 37,
      "outputs": [
        {
          "output_type": "display_data",
          "data": {
            "text/html": [
              ""
            ],
            "text/plain": [
              "<IPython.core.display.HTML object>"
            ]
          },
          "metadata": {
            "tags": []
          }
        },
        {
          "output_type": "stream",
          "text": [
            "LR Finder is complete, type {learner_name}.recorder.plot() to see the graph.\n"
          ],
          "name": "stdout"
        },
        {
          "output_type": "display_data",
          "data": {
            "image/png": "[encoded data removed]",
            "text/plain": [
              "<Figure size 432x288 with 1 Axes>"
            ]
          },
          "metadata": {
            "tags": []
          }
        }
      ]
    },
    {
      "cell_type": "markdown",
      "metadata": {
        "id": "Lmvs4caqKe-4",
        "colab_type": "text"
      },
      "source": [
        "### Carefully train the classifier\n",
        "During classification, we gradually unfreeze layers as shown below. This helps us obtain a better classification accuracy than if we were to aggressively train all the layers at once. "
      ]
    },
    {
      "cell_type": "code",
      "metadata": {
        "id": "wr3RxWeNKe-4",
        "colab_type": "code",
        "outputId": "17742c39-ba33-4f75-d061-69660262cfb0",
        "colab": {
          "base_uri": "https://localhost:8080/",
          "height": 80
        }
      },
      "source": [
        "learn.fit_one_cycle(cyc_len=1, max_lr=1e-3, moms=(0.8, 0.7))"
      ],
      "execution_count": 38,
      "outputs": [
        {
          "output_type": "display_data",
          "data": {
            "text/html": [
              "<table border=\"1\" class=\"dataframe\">\n",
              "  <thead>\n",
              "    <tr style=\"text-align: left;\">\n",
              "      <th>epoch</th>\n",
              "      <th>train_loss</th>\n",
              "      <th>valid_loss</th>\n",
              "      <th>accuracy</th>\n",
              "      <th>time</th>\n",
              "    </tr>\n",
              "  </thead>\n",
              "  <tbody>\n",
              "    <tr>\n",
              "      <td>0</td>\n",
              "      <td>1.077186</td>\n",
              "      <td>0.969622</td>\n",
              "      <td>0.516874</td>\n",
              "      <td>00:04</td>\n",
              "    </tr>\n",
              "  </tbody>\n",
              "</table>"
            ],
            "text/plain": [
              "<IPython.core.display.HTML object>"
            ]
          },
          "metadata": {
            "tags": []
          }
        }
      ]
    },
    {
      "cell_type": "code",
      "metadata": {
        "id": "Oqm7zLZAKe-5",
        "colab_type": "code",
        "outputId": "3e573bb8-07e7-4a5a-eb33-c7931aa226c8",
        "colab": {
          "base_uri": "https://localhost:8080/",
          "height": 80
        }
      },
      "source": [
        "learn.freeze_to(-2)\n",
        "learn.fit_one_cycle(1, slice(1e-4,1e-2), moms=(0.8,0.7))"
      ],
      "execution_count": 39,
      "outputs": [
        {
          "output_type": "display_data",
          "data": {
            "text/html": [
              "<table border=\"1\" class=\"dataframe\">\n",
              "  <thead>\n",
              "    <tr style=\"text-align: left;\">\n",
              "      <th>epoch</th>\n",
              "      <th>train_loss</th>\n",
              "      <th>valid_loss</th>\n",
              "      <th>accuracy</th>\n",
              "      <th>time</th>\n",
              "    </tr>\n",
              "  </thead>\n",
              "  <tbody>\n",
              "    <tr>\n",
              "      <td>0</td>\n",
              "      <td>1.005147</td>\n",
              "      <td>0.931861</td>\n",
              "      <td>0.568384</td>\n",
              "      <td>00:05</td>\n",
              "    </tr>\n",
              "  </tbody>\n",
              "</table>"
            ],
            "text/plain": [
              "<IPython.core.display.HTML object>"
            ]
          },
          "metadata": {
            "tags": []
          }
        }
      ]
    },
    {
      "cell_type": "code",
      "metadata": {
        "id": "lYm3G5lXKe-7",
        "colab_type": "code",
        "outputId": "b08115be-1fdf-4a5f-ad24-e218ff505488",
        "colab": {
          "base_uri": "https://localhost:8080/",
          "height": 80
        }
      },
      "source": [
        "learn.freeze_to(-3)\n",
        "learn.fit_one_cycle(1, slice(1e-5,5e-3), moms=(0.8,0.7))"
      ],
      "execution_count": 40,
      "outputs": [
        {
          "output_type": "display_data",
          "data": {
            "text/html": [
              "<table border=\"1\" class=\"dataframe\">\n",
              "  <thead>\n",
              "    <tr style=\"text-align: left;\">\n",
              "      <th>epoch</th>\n",
              "      <th>train_loss</th>\n",
              "      <th>valid_loss</th>\n",
              "      <th>accuracy</th>\n",
              "      <th>time</th>\n",
              "    </tr>\n",
              "  </thead>\n",
              "  <tbody>\n",
              "    <tr>\n",
              "      <td>0</td>\n",
              "      <td>0.939323</td>\n",
              "      <td>0.899704</td>\n",
              "      <td>0.582593</td>\n",
              "      <td>00:08</td>\n",
              "    </tr>\n",
              "  </tbody>\n",
              "</table>"
            ],
            "text/plain": [
              "<IPython.core.display.HTML object>"
            ]
          },
          "metadata": {
            "tags": []
          }
        }
      ]
    },
    {
      "cell_type": "code",
      "metadata": {
        "id": "eIZjr7n0Ke-8",
        "colab_type": "code",
        "outputId": "c0b47edb-c31f-477a-9153-7a1526846e49",
        "colab": {
          "base_uri": "https://localhost:8080/",
          "height": 173
        }
      },
      "source": [
        "learn.unfreeze()\n",
        "learn.fit_one_cycle(4, slice(1e-5,1e-3), moms=(0.8,0.7))"
      ],
      "execution_count": 41,
      "outputs": [
        {
          "output_type": "display_data",
          "data": {
            "text/html": [
              "<table border=\"1\" class=\"dataframe\">\n",
              "  <thead>\n",
              "    <tr style=\"text-align: left;\">\n",
              "      <th>epoch</th>\n",
              "      <th>train_loss</th>\n",
              "      <th>valid_loss</th>\n",
              "      <th>accuracy</th>\n",
              "      <th>time</th>\n",
              "    </tr>\n",
              "  </thead>\n",
              "  <tbody>\n",
              "    <tr>\n",
              "      <td>0</td>\n",
              "      <td>0.855790</td>\n",
              "      <td>0.890545</td>\n",
              "      <td>0.591474</td>\n",
              "      <td>00:10</td>\n",
              "    </tr>\n",
              "    <tr>\n",
              "      <td>1</td>\n",
              "      <td>0.828540</td>\n",
              "      <td>0.876155</td>\n",
              "      <td>0.596803</td>\n",
              "      <td>00:10</td>\n",
              "    </tr>\n",
              "    <tr>\n",
              "      <td>2</td>\n",
              "      <td>0.780172</td>\n",
              "      <td>0.869555</td>\n",
              "      <td>0.595027</td>\n",
              "      <td>00:10</td>\n",
              "    </tr>\n",
              "    <tr>\n",
              "      <td>3</td>\n",
              "      <td>0.736374</td>\n",
              "      <td>0.876161</td>\n",
              "      <td>0.609236</td>\n",
              "      <td>00:11</td>\n",
              "    </tr>\n",
              "  </tbody>\n",
              "</table>"
            ],
            "text/plain": [
              "<IPython.core.display.HTML object>"
            ]
          },
          "metadata": {
            "tags": []
          }
        }
      ]
    },
    {
      "cell_type": "markdown",
      "metadata": {
        "id": "5F_rqnpgKe-9",
        "colab_type": "text"
      },
      "source": [
        "### Cross-tabulate the predictions for each class\n",
        "The below table shows the predicted classes for the topic in concern. The actual evaluation of the F1 score of the classification result is done at a later step."
      ]
    },
    {
      "cell_type": "code",
      "metadata": {
        "id": "VfOiO4CTKe--",
        "colab_type": "code",
        "outputId": "62de5b69-01bb-4086-bd19-d68b77771436",
        "colab": {
          "base_uri": "https://localhost:8080/",
          "height": 173
        }
      },
      "source": [
        "# get predictions\n",
        "preds, targets = learn.get_preds()\n",
        "predictions = np.argmax(preds, axis=1)\n",
        "pd.crosstab(predictions, targets)"
      ],
      "execution_count": 42,
      "outputs": [
        {
          "output_type": "execute_result",
          "data": {
            "text/html": [
              "<div>\n",
              "<style scoped>\n",
              "    .dataframe tbody tr th:only-of-type {\n",
              "        vertical-align: middle;\n",
              "    }\n",
              "\n",
              "    .dataframe tbody tr th {\n",
              "        vertical-align: top;\n",
              "    }\n",
              "\n",
              "    .dataframe thead th {\n",
              "        text-align: right;\n",
              "    }\n",
              "</style>\n",
              "<table border=\"1\" class=\"dataframe\">\n",
              "  <thead>\n",
              "    <tr style=\"text-align: right;\">\n",
              "      <th>col_0</th>\n",
              "      <th>0</th>\n",
              "      <th>1</th>\n",
              "      <th>2</th>\n",
              "    </tr>\n",
              "    <tr>\n",
              "      <th>row_0</th>\n",
              "      <th></th>\n",
              "      <th></th>\n",
              "      <th></th>\n",
              "    </tr>\n",
              "  </thead>\n",
              "  <tbody>\n",
              "    <tr>\n",
              "      <th>0</th>\n",
              "      <td>220</td>\n",
              "      <td>67</td>\n",
              "      <td>58</td>\n",
              "    </tr>\n",
              "    <tr>\n",
              "      <th>1</th>\n",
              "      <td>23</td>\n",
              "      <td>58</td>\n",
              "      <td>19</td>\n",
              "    </tr>\n",
              "    <tr>\n",
              "      <th>2</th>\n",
              "      <td>30</td>\n",
              "      <td>23</td>\n",
              "      <td>65</td>\n",
              "    </tr>\n",
              "  </tbody>\n",
              "</table>\n",
              "</div>"
            ],
            "text/plain": [
              "col_0    0   1   2\n",
              "row_0             \n",
              "0      220  67  58\n",
              "1       23  58  19\n",
              "2       30  23  65"
            ]
          },
          "metadata": {
            "tags": []
          },
          "execution_count": 42
        }
      ]
    },
    {
      "cell_type": "markdown",
      "metadata": {
        "id": "_Q7QI6RqKe_A",
        "colab_type": "text"
      },
      "source": [
        "## Evaluate the predicted results from the classifier (SemEval tweets only)\n",
        "We read in the test dataset and store in a Pandas DataFrame as shown."
      ]
    },
    {
      "cell_type": "code",
      "metadata": {
        "id": "uoA15dxjKe_B",
        "colab_type": "code",
        "outputId": "1dca8150-c0ca-4804-bbd0-39b3655ac3c8",
        "colab": {
          "base_uri": "https://localhost:8080/",
          "height": 204
        }
      },
      "source": [
        "test = pd.read_csv(path/testfile, delimiter='\\t', header=0, encoding = \"latin-1\")\n",
        "test = test.drop(['ID'], axis=1)\n",
        "# test['Tweet'] = test['Tweet'].apply(clean_ascii)\n",
        "test.head()"
      ],
      "execution_count": 43,
      "outputs": [
        {
          "output_type": "execute_result",
          "data": {
            "text/html": [
              "<div>\n",
              "<style scoped>\n",
              "    .dataframe tbody tr th:only-of-type {\n",
              "        vertical-align: middle;\n",
              "    }\n",
              "\n",
              "    .dataframe tbody tr th {\n",
              "        vertical-align: top;\n",
              "    }\n",
              "\n",
              "    .dataframe thead th {\n",
              "        text-align: right;\n",
              "    }\n",
              "</style>\n",
              "<table border=\"1\" class=\"dataframe\">\n",
              "  <thead>\n",
              "    <tr style=\"text-align: right;\">\n",
              "      <th></th>\n",
              "      <th>Target</th>\n",
              "      <th>Tweet</th>\n",
              "      <th>Stance</th>\n",
              "    </tr>\n",
              "  </thead>\n",
              "  <tbody>\n",
              "    <tr>\n",
              "      <th>0</th>\n",
              "      <td>Atheism</td>\n",
              "      <td>He who exalts himself shall      be humbled; a...</td>\n",
              "      <td>UNKNOWN</td>\n",
              "    </tr>\n",
              "    <tr>\n",
              "      <th>1</th>\n",
              "      <td>Atheism</td>\n",
              "      <td>RT @prayerbullets: I remove Nehushtan -previou...</td>\n",
              "      <td>UNKNOWN</td>\n",
              "    </tr>\n",
              "    <tr>\n",
              "      <th>2</th>\n",
              "      <td>Atheism</td>\n",
              "      <td>@Brainman365 @heidtjj @BenjaminLives I have so...</td>\n",
              "      <td>UNKNOWN</td>\n",
              "    </tr>\n",
              "    <tr>\n",
              "      <th>3</th>\n",
              "      <td>Atheism</td>\n",
              "      <td>#God is utterly powerless without Human interv...</td>\n",
              "      <td>UNKNOWN</td>\n",
              "    </tr>\n",
              "    <tr>\n",
              "      <th>4</th>\n",
              "      <td>Atheism</td>\n",
              "      <td>@David_Cameron   Miracles of #Multiculturalism...</td>\n",
              "      <td>UNKNOWN</td>\n",
              "    </tr>\n",
              "  </tbody>\n",
              "</table>\n",
              "</div>"
            ],
            "text/plain": [
              "    Target                                              Tweet   Stance\n",
              "0  Atheism  He who exalts himself shall      be humbled; a...  UNKNOWN\n",
              "1  Atheism  RT @prayerbullets: I remove Nehushtan -previou...  UNKNOWN\n",
              "2  Atheism  @Brainman365 @heidtjj @BenjaminLives I have so...  UNKNOWN\n",
              "3  Atheism  #God is utterly powerless without Human interv...  UNKNOWN\n",
              "4  Atheism  @David_Cameron   Miracles of #Multiculturalism...  UNKNOWN"
            ]
          },
          "metadata": {
            "tags": []
          },
          "execution_count": 43
        }
      ]
    },
    {
      "cell_type": "markdown",
      "metadata": {
        "id": "U7Njfxz8Ke_D",
        "colab_type": "text"
      },
      "source": [
        "Since we do not yet know the stance for the test set, it is marked as \"UNKNOWN\". "
      ]
    },
    {
      "cell_type": "markdown",
      "metadata": {
        "id": "_A97y7-lKe_F",
        "colab_type": "text"
      },
      "source": [
        "### Filter the test data set based on topic we are classifying for"
      ]
    },
    {
      "cell_type": "code",
      "metadata": {
        "id": "0LNV863wKe_F",
        "colab_type": "code",
        "outputId": "fdbaa4c0-d28e-4750-bd46-febcddbd7dd5",
        "colab": {
          "base_uri": "https://localhost:8080/",
          "height": 204
        }
      },
      "source": [
        "test_pred = test[['Target', 'Tweet']]\n",
        "test_pred = test_pred.loc[test_pred['Target'] == topic]\n",
        "test_pred.tail()"
      ],
      "execution_count": 44,
      "outputs": [
        {
          "output_type": "execute_result",
          "data": {
            "text/html": [
              "<div>\n",
              "<style scoped>\n",
              "    .dataframe tbody tr th:only-of-type {\n",
              "        vertical-align: middle;\n",
              "    }\n",
              "\n",
              "    .dataframe tbody tr th {\n",
              "        vertical-align: top;\n",
              "    }\n",
              "\n",
              "    .dataframe thead th {\n",
              "        text-align: right;\n",
              "    }\n",
              "</style>\n",
              "<table border=\"1\" class=\"dataframe\">\n",
              "  <thead>\n",
              "    <tr style=\"text-align: right;\">\n",
              "      <th></th>\n",
              "      <th>Target</th>\n",
              "      <th>Tweet</th>\n",
              "    </tr>\n",
              "  </thead>\n",
              "  <tbody>\n",
              "    <tr>\n",
              "      <th>669</th>\n",
              "      <td>Feminist Movement</td>\n",
              "      <td>@Maisie_Williams is our hero with her #LikeAGi...</td>\n",
              "    </tr>\n",
              "    <tr>\n",
              "      <th>670</th>\n",
              "      <td>Feminist Movement</td>\n",
              "      <td>Rather be an \"ugly\" feminist then be these sad...</td>\n",
              "    </tr>\n",
              "    <tr>\n",
              "      <th>671</th>\n",
              "      <td>Feminist Movement</td>\n",
              "      <td>iamNovaah: RT ChrzOC: Bitches be running wild....</td>\n",
              "    </tr>\n",
              "    <tr>\n",
              "      <th>672</th>\n",
              "      <td>Feminist Movement</td>\n",
              "      <td>@angerelle you disagree that people should str...</td>\n",
              "    </tr>\n",
              "    <tr>\n",
              "      <th>673</th>\n",
              "      <td>Feminist Movement</td>\n",
              "      <td>#Rapeculture is basically a FABLE. It has almo...</td>\n",
              "    </tr>\n",
              "  </tbody>\n",
              "</table>\n",
              "</div>"
            ],
            "text/plain": [
              "                Target                                              Tweet\n",
              "669  Feminist Movement  @Maisie_Williams is our hero with her #LikeAGi...\n",
              "670  Feminist Movement  Rather be an \"ugly\" feminist then be these sad...\n",
              "671  Feminist Movement  iamNovaah: RT ChrzOC: Bitches be running wild....\n",
              "672  Feminist Movement  @angerelle you disagree that people should str...\n",
              "673  Feminist Movement  #Rapeculture is basically a FABLE. It has almo..."
            ]
          },
          "metadata": {
            "tags": []
          },
          "execution_count": 44
        }
      ]
    },
    {
      "cell_type": "markdown",
      "metadata": {
        "id": "4202jiWXKe_H",
        "colab_type": "text"
      },
      "source": [
        "### Apply the learner's ```predict``` method to produce our prediction"
      ]
    },
    {
      "cell_type": "code",
      "metadata": {
        "id": "iTJ1xtYxKe_H",
        "colab_type": "code",
        "colab": {}
      },
      "source": [
        "test_pred['Stance'] = test_pred['Tweet'].apply(lambda row: str(learn.predict(row)[0]))"
      ],
      "execution_count": 0,
      "outputs": []
    },
    {
      "cell_type": "code",
      "metadata": {
        "id": "_vAf5MVhKe_I",
        "colab_type": "code",
        "outputId": "c4f7157e-00bd-41f9-ecc6-7adde6bab357",
        "colab": {
          "base_uri": "https://localhost:8080/",
          "height": 204
        }
      },
      "source": [
        "test_pred.tail()"
      ],
      "execution_count": 46,
      "outputs": [
        {
          "output_type": "execute_result",
          "data": {
            "text/html": [
              "<div>\n",
              "<style scoped>\n",
              "    .dataframe tbody tr th:only-of-type {\n",
              "        vertical-align: middle;\n",
              "    }\n",
              "\n",
              "    .dataframe tbody tr th {\n",
              "        vertical-align: top;\n",
              "    }\n",
              "\n",
              "    .dataframe thead th {\n",
              "        text-align: right;\n",
              "    }\n",
              "</style>\n",
              "<table border=\"1\" class=\"dataframe\">\n",
              "  <thead>\n",
              "    <tr style=\"text-align: right;\">\n",
              "      <th></th>\n",
              "      <th>Target</th>\n",
              "      <th>Tweet</th>\n",
              "      <th>Stance</th>\n",
              "    </tr>\n",
              "  </thead>\n",
              "  <tbody>\n",
              "    <tr>\n",
              "      <th>669</th>\n",
              "      <td>Feminist Movement</td>\n",
              "      <td>@Maisie_Williams is our hero with her #LikeAGi...</td>\n",
              "      <td>AGAINST</td>\n",
              "    </tr>\n",
              "    <tr>\n",
              "      <th>670</th>\n",
              "      <td>Feminist Movement</td>\n",
              "      <td>Rather be an \"ugly\" feminist then be these sad...</td>\n",
              "      <td>AGAINST</td>\n",
              "    </tr>\n",
              "    <tr>\n",
              "      <th>671</th>\n",
              "      <td>Feminist Movement</td>\n",
              "      <td>iamNovaah: RT ChrzOC: Bitches be running wild....</td>\n",
              "      <td>AGAINST</td>\n",
              "    </tr>\n",
              "    <tr>\n",
              "      <th>672</th>\n",
              "      <td>Feminist Movement</td>\n",
              "      <td>@angerelle you disagree that people should str...</td>\n",
              "      <td>FAVOR</td>\n",
              "    </tr>\n",
              "    <tr>\n",
              "      <th>673</th>\n",
              "      <td>Feminist Movement</td>\n",
              "      <td>#Rapeculture is basically a FABLE. It has almo...</td>\n",
              "      <td>AGAINST</td>\n",
              "    </tr>\n",
              "  </tbody>\n",
              "</table>\n",
              "</div>"
            ],
            "text/plain": [
              "                Target  ...   Stance\n",
              "669  Feminist Movement  ...  AGAINST\n",
              "670  Feminist Movement  ...  AGAINST\n",
              "671  Feminist Movement  ...  AGAINST\n",
              "672  Feminist Movement  ...    FAVOR\n",
              "673  Feminist Movement  ...  AGAINST\n",
              "\n",
              "[5 rows x 3 columns]"
            ]
          },
          "metadata": {
            "tags": []
          },
          "execution_count": 46
        }
      ]
    },
    {
      "cell_type": "markdown",
      "metadata": {
        "id": "d7aa_qQjKe_K",
        "colab_type": "text"
      },
      "source": [
        "### Output the predicted dataset to a text file for comparison with the gold reference"
      ]
    },
    {
      "cell_type": "code",
      "metadata": {
        "id": "qe9RB_-jKe_K",
        "colab_type": "code",
        "colab": {}
      },
      "source": [
        "test_pred.to_csv(path/'eval'/'predicted.txt', sep='\\t', index=True,\n",
        "                 header=['Target', 'Tweet', 'Stance'], index_label='ID')"
      ],
      "execution_count": 0,
      "outputs": []
    },
    {
      "cell_type": "markdown",
      "metadata": {
        "id": "gY88Iw1PKe_N",
        "colab_type": "text"
      },
      "source": [
        "Once we have the predicted data, we use the *perl* script provided by the SemEval organizers to generate the F1 score. \n",
        "\n",
        "The evaluation script is in ```data/eval/``` and has the following usage:\n",
        "\n",
        "    perl eval.py gold_feminism.txt predicted.txt\n",
        "    \n",
        "    ============\n",
        "    Results\t\t\t\t \n",
        "    ============\n",
        "    FAVOR     precision: 0.3265 recall: 0.5517 f-score: 0.4103\n",
        "    AGAINST   precision: 0.7259 recall: 0.5355 f-score: 0.6164\n",
        "    ------------\n",
        "    Macro F: 0.5133"
      ]
    },
    {
      "cell_type": "markdown",
      "metadata": {
        "id": "uib8vZ3DKe_O",
        "colab_type": "text"
      },
      "source": [
        "Using a relatively small input vocabulary from the Twitter training data, we do not do that well in the F-score for the \"Feminist Movement\" topic.  On trying out a similar approach for Tweets from the other topics (Atheism, Hillary Clinton, etc.), we still do not see an F-score of above 0.60 - this is well below the winning score by *MITRE* of 0.67.\n",
        "\n",
        "To improve the score, some more fine-tuning is needed."
      ]
    },
    {
      "cell_type": "markdown",
      "metadata": {
        "id": "qDEiRc06Ke_O",
        "colab_type": "text"
      },
      "source": [
        "## 5.3 Train the Classifier: Augmented Vocabulary\n",
        "Since the initial approach (despite multiple attempts at fine-tuning both the language model and the classifier) did not an F-score as high as *MITRE's* (which was ~0.67), it can be reasoned that this could be because the pre-trained language model did not generalize to Tweets specifically (since the language syntax of tweets are quite different than the Wikipedia text that the LSTMs were trained on). \n",
        "\n",
        "The provided training data of 2,800 Tweets can be augmented with the Kaggle [Twitter Sentiment140 dataset](https://www.kaggle.com/kazanova/sentiment140) of 1.6 million tweets. By fine-tuning the language model on this larger Twitter dataset, we might better learn the structure of Twitter conversations. \n",
        "\n",
        "**NOTE**: Since 1.6 million tweets is quite a large dataset and can add a significant number of unique, one-time-only words, in this notebook, we only sampled a subset of 200,000 from the original Sentiment140 dataset for the language model fine-tuning to save on language model fine-tuning time. It is possible that fine-tuning the language model with a larger subset of the augmentation vocabulary could further improve the language model fine-tuned results. "
      ]
    },
    {
      "cell_type": "code",
      "metadata": {
        "id": "0iaGT-Z7B827",
        "colab_type": "code",
        "outputId": "bb2bfffd-7808-4804-fd84-968b85f359f1",
        "colab": {
          "base_uri": "https://localhost:8080/",
          "height": 51
        }
      },
      "source": [
        "#!wget https://www.kaggle.com/kazanova/sentiment140/downloads/sentiment140.zip\n",
        "!unzip ./data/sentiment140.zip -d ./data\n"
      ],
      "execution_count": 48,
      "outputs": [
        {
          "output_type": "stream",
          "text": [
            "Archive:  ./data/sentiment140.zip\n",
            "  inflating: ./data/training.1600000.processed.noemoticon.csv  \n"
          ],
          "name": "stdout"
        }
      ]
    },
    {
      "cell_type": "code",
      "metadata": {
        "scrolled": false,
        "id": "7KJDJNkaKe_P",
        "colab_type": "code",
        "colab": {}
      },
      "source": [
        "# Load Kaggle Twitter Dataset\n",
        "kaggle = pd.read_csv(path/\"training.1600000.processed.noemoticon.csv\",header=None,encoding = \"latin-1\")\n",
        "kaggle.columns = ['col1', 'col2',\"col3\",\"Stance\",\"col5\",\"Tweet\"]\n",
        "kaggle = kaggle[['Stance','Tweet']]\n",
        "# Clean Data and Remove URL's from the tweets\n",
        "kaggle['Tweet'] = kaggle['Tweet'].apply(clean_ascii)\n",
        "kaggle['Tweet'] = kaggle['Tweet'].replace(r'http\\S+', '', regex=True).replace(r'www\\S+', '', regex=True)\n",
        "kaggle_sub = kaggle.sample(n=200000,random_state=77)\n",
        "kaggle_sub = kaggle_sub.append(train, ignore_index=True)"
      ],
      "execution_count": 0,
      "outputs": []
    },
    {
      "cell_type": "code",
      "metadata": {
        "scrolled": true,
        "id": "9U_n7X5vKe_Q",
        "colab_type": "code",
        "outputId": "918d1636-c115-4941-d3ca-f38cb11a0852",
        "colab": {
          "base_uri": "https://localhost:8080/",
          "height": 37
        }
      },
      "source": [
        "# The Lines are commented out as this takes a long time to run\n",
        "# Write train to csv\n",
        "kaggle_sub.to_csv(path/'kaggle_train_sub_v2.csv', index=False, header=False)\n",
        "twitter_lm = TextLMDataBunch.from_csv(path, 'kaggle_train_sub_v2.csv', min_freq=1)\n"
      ],
      "execution_count": 0,
      "outputs": [
        {
          "output_type": "display_data",
          "data": {
            "text/html": [
              "\n",
              "    <div>\n",
              "        <style>\n",
              "            /* Turns off some styling */\n",
              "            progress {\n",
              "                /* gets rid of default border in Firefox and Opera. */\n",
              "                border: none;\n",
              "                /* Needs to be in here for Safari polyfill so background images work as expected. */\n",
              "                background-size: auto;\n",
              "            }\n",
              "            .progress-bar-interrupted, .progress-bar-interrupted::-webkit-progress-bar {\n",
              "                background: #F44336;\n",
              "            }\n",
              "        </style>\n",
              "      <progress value='0' class='' max='5', style='width:300px; height:20px; vertical-align: middle;'></progress>\n",
              "      0.00% [0/5 00:00<00:00]\n",
              "    </div>\n",
              "    "
            ],
            "text/plain": [
              "<IPython.core.display.HTML object>"
            ]
          },
          "metadata": {
            "tags": []
          }
        }
      ]
    },
    {
      "cell_type": "code",
      "metadata": {
        "id": "S48xNCUYIDus",
        "colab_type": "code",
        "outputId": "0a417f10-eae2-4161-f779-15971ed83467",
        "colab": {
          "base_uri": "https://localhost:8080/",
          "height": 306
        }
      },
      "source": [
        "twitter_lm.save()\n",
        "twitter_lm.show_batch()"
      ],
      "execution_count": 0,
      "outputs": [
        {
          "output_type": "display_data",
          "data": {
            "text/html": [
              "<table border=\"1\" class=\"dataframe\">\n",
              "  <thead>\n",
              "    <tr style=\"text-align: right;\">\n",
              "      <th>idx</th>\n",
              "      <th>text</th>\n",
              "    </tr>\n",
              "  </thead>\n",
              "  <tbody>\n",
              "    <tr>\n",
              "      <td>0</td>\n",
              "      <td>it ... xxmaj if only ... xxbos @brett i 'll come tomoz if someone picks up the air fare was gon na make # 140conf but got a conf in london now . defo spet tho xxbos @markmacleo just checking xxbos xxmaj at you can check out our newly completed projects ! xxmaj we want to make you proud of your home and yard ! ! xxbos @zoenavarre warm soup</td>\n",
              "    </tr>\n",
              "    <tr>\n",
              "      <td>1</td>\n",
              "      <td>little monkey ever ! xxmaj hopefully that person was n't lying ... xxbos xxmaj you do n't and neither do xxup i. xxmaj sweet dreams sweetie xxmaj love you . xxbos @amilliemills do n't be discourage it will all work out soon ... pinky swear xxbos xxmaj called into work later . xxmaj rock on . xxbos xxmaj haha @websurfer1232 and @missionsixroxur convo was funn ! xxmaj hate this weather</td>\n",
              "    </tr>\n",
              "    <tr>\n",
              "      <td>2</td>\n",
              "      <td>xxmaj thanks so much hun xxbos wish i could go to the # big weekend # but i did nt get tickets xxbos xxmaj mikkell is sick with the flu ... my poor baby xxmaj just tryna nurse him back to good health xxbos xxmaj goodnight tweeples xxbos i really wish some of the top technical search results on google were n't me asking stupid questions on stackoverflow.com xxbos xxmaj</td>\n",
              "    </tr>\n",
              "    <tr>\n",
              "      <td>3</td>\n",
              "      <td>xxmaj great now i 'm watching xxmaj ratatouille ... xxmaj ugh ! xxbos @wkjthd just through the weekend then back to xxmaj cali ... to enjoy the palm trees and ocean xxbos one of my teachers died yesterday xxbos xxup omg i ca n't stop obsessing over xxmaj shane xxmaj dawson ooohhh new vid soon xxrep 4 ! xxbos lying in my tidy room bor xxrep 6 e d xxbos</td>\n",
              "    </tr>\n",
              "    <tr>\n",
              "      <td>4</td>\n",
              "      <td>sucked and this morning is n't any better wooorrrddd xxbos @thisisdavina xxmaj at last c4 have xxup finally posted last night 's ep . xxmaj re xxmaj sree ~ see what pain xxmaj noirin caused by being too nice &amp; &amp; not clear to start xxbos i 'm so lazy today i should have read some paper ... but i have n't at all xxbos @toniignacio xxmaj its banned xxmaj</td>\n",
              "    </tr>\n",
              "  </tbody>\n",
              "</table>"
            ],
            "text/plain": [
              "<IPython.core.display.HTML object>"
            ]
          },
          "metadata": {
            "tags": []
          }
        }
      ]
    },
    {
      "cell_type": "code",
      "metadata": {
        "scrolled": false,
        "id": "m9Rb-_BHKe_R",
        "colab_type": "code",
        "outputId": "e4ac388d-61e2-461b-d421-5b66d3d6caec",
        "colab": {
          "base_uri": "https://localhost:8080/",
          "height": 300
        }
      },
      "source": [
        "learn_twitter = language_model_learner(twitter_lm, AWD_LSTM, pretrained=True, drop_mult=0.1)\n",
        "learn_twitter.lr_find(start_lr=1e-8, end_lr=1e2)\n",
        "learn_twitter.recorder.plot()"
      ],
      "execution_count": 0,
      "outputs": [
        {
          "output_type": "display_data",
          "data": {
            "text/html": [
              ""
            ],
            "text/plain": [
              "<IPython.core.display.HTML object>"
            ]
          },
          "metadata": {
            "tags": []
          }
        },
        {
          "output_type": "stream",
          "text": [
            "LR Finder is complete, type {learner_name}.recorder.plot() to see the graph.\n"
          ],
          "name": "stdout"
        },
        {
          "output_type": "display_data",
          "data": {
            "image/png": "[encoded data removed]",
            "text/plain": [
              "<Figure size 432x288 with 1 Axes>"
            ]
          },
          "metadata": {
            "tags": []
          }
        }
      ]
    },
    {
      "cell_type": "code",
      "metadata": {
        "id": "4U3LNMOmKe_T",
        "colab_type": "code",
        "outputId": "b810fdb1-a374-4c71-87b8-430cd1eef9d8",
        "colab": {
          "base_uri": "https://localhost:8080/",
          "height": 80
        }
      },
      "source": [
        "learn_twitter = language_model_learner(twitter_lm, AWD_LSTM, pretrained=True,drop_mult=0.5)\n",
        "learn_twitter.fit_one_cycle(cyc_len=1, max_lr=1e-3, moms=(0.8, 0.7))"
      ],
      "execution_count": 0,
      "outputs": [
        {
          "output_type": "display_data",
          "data": {
            "text/html": [
              "<table border=\"1\" class=\"dataframe\">\n",
              "  <thead>\n",
              "    <tr style=\"text-align: left;\">\n",
              "      <th>epoch</th>\n",
              "      <th>train_loss</th>\n",
              "      <th>valid_loss</th>\n",
              "      <th>accuracy</th>\n",
              "      <th>time</th>\n",
              "    </tr>\n",
              "  </thead>\n",
              "  <tbody>\n",
              "    <tr>\n",
              "      <td>0</td>\n",
              "      <td>5.091929</td>\n",
              "      <td>4.751267</td>\n",
              "      <td>0.195084</td>\n",
              "      <td>04:30</td>\n",
              "    </tr>\n",
              "  </tbody>\n",
              "</table>"
            ],
            "text/plain": [
              "<IPython.core.display.HTML object>"
            ]
          },
          "metadata": {
            "tags": []
          }
        }
      ]
    },
    {
      "cell_type": "code",
      "metadata": {
        "scrolled": true,
        "id": "mT_40PoVKe_W",
        "colab_type": "code",
        "outputId": "06540539-b13c-467b-e019-137d8e994828",
        "colab": {
          "base_uri": "https://localhost:8080/",
          "height": 359
        }
      },
      "source": [
        "learn_twitter.unfreeze()\n",
        "learn_twitter.fit_one_cycle(cyc_len=10, max_lr=1e-3, moms=(0.8, 0.7))"
      ],
      "execution_count": 0,
      "outputs": [
        {
          "output_type": "display_data",
          "data": {
            "text/html": [
              "<table border=\"1\" class=\"dataframe\">\n",
              "  <thead>\n",
              "    <tr style=\"text-align: left;\">\n",
              "      <th>epoch</th>\n",
              "      <th>train_loss</th>\n",
              "      <th>valid_loss</th>\n",
              "      <th>accuracy</th>\n",
              "      <th>time</th>\n",
              "    </tr>\n",
              "  </thead>\n",
              "  <tbody>\n",
              "    <tr>\n",
              "      <td>0</td>\n",
              "      <td>4.724335</td>\n",
              "      <td>4.460184</td>\n",
              "      <td>0.229747</td>\n",
              "      <td>05:08</td>\n",
              "    </tr>\n",
              "    <tr>\n",
              "      <td>1</td>\n",
              "      <td>4.524179</td>\n",
              "      <td>4.300602</td>\n",
              "      <td>0.243787</td>\n",
              "      <td>05:15</td>\n",
              "    </tr>\n",
              "    <tr>\n",
              "      <td>2</td>\n",
              "      <td>4.370709</td>\n",
              "      <td>4.210989</td>\n",
              "      <td>0.251771</td>\n",
              "      <td>05:15</td>\n",
              "    </tr>\n",
              "    <tr>\n",
              "      <td>3</td>\n",
              "      <td>4.229507</td>\n",
              "      <td>4.170685</td>\n",
              "      <td>0.255044</td>\n",
              "      <td>05:16</td>\n",
              "    </tr>\n",
              "    <tr>\n",
              "      <td>4</td>\n",
              "      <td>4.099531</td>\n",
              "      <td>4.164547</td>\n",
              "      <td>0.255786</td>\n",
              "      <td>05:15</td>\n",
              "    </tr>\n",
              "    <tr>\n",
              "      <td>5</td>\n",
              "      <td>3.952025</td>\n",
              "      <td>4.168760</td>\n",
              "      <td>0.257301</td>\n",
              "      <td>05:15</td>\n",
              "    </tr>\n",
              "    <tr>\n",
              "      <td>6</td>\n",
              "      <td>3.833315</td>\n",
              "      <td>4.184302</td>\n",
              "      <td>0.256208</td>\n",
              "      <td>05:15</td>\n",
              "    </tr>\n",
              "    <tr>\n",
              "      <td>7</td>\n",
              "      <td>3.731089</td>\n",
              "      <td>4.205703</td>\n",
              "      <td>0.255308</td>\n",
              "      <td>05:15</td>\n",
              "    </tr>\n",
              "    <tr>\n",
              "      <td>8</td>\n",
              "      <td>3.654335</td>\n",
              "      <td>4.224340</td>\n",
              "      <td>0.254739</td>\n",
              "      <td>05:15</td>\n",
              "    </tr>\n",
              "    <tr>\n",
              "      <td>9</td>\n",
              "      <td>3.608835</td>\n",
              "      <td>4.233489</td>\n",
              "      <td>0.254278</td>\n",
              "      <td>05:15</td>\n",
              "    </tr>\n",
              "  </tbody>\n",
              "</table>"
            ],
            "text/plain": [
              "<IPython.core.display.HTML object>"
            ]
          },
          "metadata": {
            "tags": []
          }
        }
      ]
    },
    {
      "cell_type": "code",
      "metadata": {
        "id": "-RVp2xEOKe_X",
        "colab_type": "code",
        "colab": {}
      },
      "source": [
        "# Save the fine-tuned encoder (Uncomment the line given below)\n",
        "learn_twitter.save_encoder('ft_enc_kaggle_v1')"
      ],
      "execution_count": 0,
      "outputs": []
    },
    {
      "cell_type": "markdown",
      "metadata": {
        "id": "95vX8e4jKe_Y",
        "colab_type": "text"
      },
      "source": [
        "### Load Vocabulary\n",
        "This assumes that we have a fine-tuned language model's numericalized vocabulary ```vocab.pkl``` in the same directory as the notebook."
      ]
    },
    {
      "cell_type": "code",
      "metadata": {
        "id": "XiMt50UIKe_Z",
        "colab_type": "code",
        "colab": {}
      },
      "source": [
        "#Save the Vocab to a Pickle file for later use\n",
        "# pickle.dump(twitter_lm.train_ds.vocab, open(f'vocab.pkl','wb'))\n",
        "vocab_load = pickle.load(open('vocab.pkl', 'rb'))"
      ],
      "execution_count": 0,
      "outputs": []
    },
    {
      "cell_type": "markdown",
      "metadata": {
        "id": "I2H9EoALKe_a",
        "colab_type": "text"
      },
      "source": [
        "Various values of momentum, dropout and learning rates were tried to find the best values of these parameters. The below parameters are applied in a for loop to train on each topic one by one, and then appending the predictions to a common file for comparison with the gold reference."
      ]
    },
    {
      "cell_type": "code",
      "metadata": {
        "scrolled": true,
        "id": "gwsdeLW7Ke_b",
        "colab_type": "code",
        "outputId": "b7b336a3-90eb-41ed-faad-574a1f525a5b",
        "colab": {
          "base_uri": "https://localhost:8080/",
          "height": 232
        }
      },
      "source": [
        "for topic in train_orig.Target.unique():\n",
        "    print(\"Topic: \",topic)\n",
        "    #learn_twitter=learn_twitter_org\n",
        "        # Get only those tweets that pertain to a single topic in the training data\n",
        "    train_topic = train.loc[train_orig['Target'] == topic]\n",
        "    # Write train to csv\n",
        "    train_topic.to_csv(path/'train_topic.csv', index=False, header=False)\n",
        "    # Classifier model data\n",
        "    data_clas = TextClasDataBunch.from_csv(path, 'train_topic.csv', vocab=vocab_load, min_freq=7, bs=64)\n",
        "    data_clas.save()\n",
        "    learn = text_classifier_learner(data_clas, drop_mult=0.5)\n",
        "    learn.load_encoder('ft_enc_kaggle_v1')\n",
        "    learn.freeze()\n",
        "\n",
        "    #Find Optimum Learning Rate\n",
        "    learn.lr_find(start_lr=1e-6, end_lr=1e2)\n",
        "    learn.recorder.plot()\n",
        "\n",
        "    #Train the Classifier by Gradually Unfreezing the Layers\n",
        "    learn.fit_one_cycle(cyc_len=1, max_lr=1e-3, moms=(0.8, 0.7))\n",
        "    #Unfreeze Layer\n",
        "    learn.freeze_to(-2)\n",
        "    learn.fit_one_cycle(3, slice(1e-4,1e-2), moms=(0.8,0.7))\n",
        "    #Unfreeze Layer\n",
        "    learn.freeze_to(-3)\n",
        "    learn.fit_one_cycle(3, slice(1e-5,5e-3), moms=(0.8,0.7))\n",
        "    #Unfreeze All Layers\n",
        "    learn.unfreeze()\n",
        "    learn.fit_one_cycle(3, slice(1e-5,1e-3), moms=(0.8,0.7))\n",
        "    # get predictions\n",
        "    preds, targets = learn.get_preds()\n",
        "    predictions = np.argmax(preds, axis=1)\n",
        "    pd.crosstab(predictions, targets)\n",
        "\n",
        "    test = pd.read_csv(path/testfile, delimiter='\\t', header=0, encoding = \"latin-1\")\n",
        "    # test = test.drop(['ID'], axis=1)\n",
        "    # test['Tweet'] = test['Tweet'].apply(clean_ascii)\n",
        "    test.head()\n",
        "\n",
        "    test_pred = test[['Target', 'Tweet']]\n",
        "    test_pred = test_pred.loc[test_pred['Target'] == topic]\n",
        "    test_pred.tail()\n",
        "\n",
        "    test_pred['Stance'] = test_pred['Tweet'].apply(lambda row: str(learn.predict(row)[0]))\n",
        "    file_to_save=\"predicted_\"+str(topic.replace(\" \", \"_\"))+\".txt\"\n",
        "    test_pred.to_csv(path/'eval'/file_to_save, sep='\\t', index=True,\n",
        "                     header=['Target', 'Tweet', 'Stance'], index_label='ID')\n",
        "    if(topic==\"Atheism\"):\n",
        "        preds_document=test_pred\n",
        "    else:\n",
        "        preds_document=preds_document.append(test_pred, ignore_index=True)"
      ],
      "execution_count": 0,
      "outputs": [
        {
          "output_type": "error",
          "ename": "TypeError",
          "evalue": "ignored",
          "traceback": [
            "\u001b[0;31m---------------------------------------------------------------------------\u001b[0m",
            "\u001b[0;31mTypeError\u001b[0m                                 Traceback (most recent call last)",
            "\u001b[0;32m<ipython-input-132-b85d72f34b2e>\u001b[0m in \u001b[0;36m<module>\u001b[0;34m()\u001b[0m\n\u001b[1;32m      9\u001b[0m     \u001b[0mdata_clas\u001b[0m \u001b[0;34m=\u001b[0m \u001b[0mTextClasDataBunch\u001b[0m\u001b[0;34m.\u001b[0m\u001b[0mfrom_csv\u001b[0m\u001b[0;34m(\u001b[0m\u001b[0mpath\u001b[0m\u001b[0;34m,\u001b[0m \u001b[0;34m'train_topic.csv'\u001b[0m\u001b[0;34m,\u001b[0m \u001b[0mvocab\u001b[0m\u001b[0;34m=\u001b[0m\u001b[0mvocab_load\u001b[0m\u001b[0;34m,\u001b[0m \u001b[0mmin_freq\u001b[0m\u001b[0;34m=\u001b[0m\u001b[0;36m7\u001b[0m\u001b[0;34m,\u001b[0m \u001b[0mbs\u001b[0m\u001b[0;34m=\u001b[0m\u001b[0;36m64\u001b[0m\u001b[0;34m)\u001b[0m\u001b[0;34m\u001b[0m\u001b[0;34m\u001b[0m\u001b[0m\n\u001b[1;32m     10\u001b[0m     \u001b[0mdata_clas\u001b[0m\u001b[0;34m.\u001b[0m\u001b[0msave\u001b[0m\u001b[0;34m(\u001b[0m\u001b[0;34m)\u001b[0m\u001b[0;34m\u001b[0m\u001b[0;34m\u001b[0m\u001b[0m\n\u001b[0;32m---> 11\u001b[0;31m     \u001b[0mlearn\u001b[0m \u001b[0;34m=\u001b[0m \u001b[0mtext_classifier_learner\u001b[0m\u001b[0;34m(\u001b[0m\u001b[0mdata_clas\u001b[0m\u001b[0;34m,\u001b[0m \u001b[0mdrop_mult\u001b[0m\u001b[0;34m=\u001b[0m\u001b[0;36m0.5\u001b[0m\u001b[0;34m)\u001b[0m\u001b[0;34m\u001b[0m\u001b[0;34m\u001b[0m\u001b[0m\n\u001b[0m\u001b[1;32m     12\u001b[0m     \u001b[0mlearn\u001b[0m\u001b[0;34m.\u001b[0m\u001b[0mload_encoder\u001b[0m\u001b[0;34m(\u001b[0m\u001b[0;34m'ft_enc_kaggle_v1'\u001b[0m\u001b[0;34m)\u001b[0m\u001b[0;34m\u001b[0m\u001b[0;34m\u001b[0m\u001b[0m\n\u001b[1;32m     13\u001b[0m     \u001b[0mlearn\u001b[0m\u001b[0;34m.\u001b[0m\u001b[0mfreeze\u001b[0m\u001b[0;34m(\u001b[0m\u001b[0;34m)\u001b[0m\u001b[0;34m\u001b[0m\u001b[0;34m\u001b[0m\u001b[0m\n",
            "\u001b[0;31mTypeError\u001b[0m: text_classifier_learner() missing 1 required positional argument: 'arch'"
          ]
        }
      ]
    },
    {
      "cell_type": "markdown",
      "metadata": {
        "id": "YD99v4oaKe_d",
        "colab_type": "text"
      },
      "source": [
        "### Output the predicted dataset to a text file for comparison with the gold reference"
      ]
    },
    {
      "cell_type": "code",
      "metadata": {
        "id": "_rVtJ9DHKe_e",
        "colab_type": "code",
        "colab": {}
      },
      "source": [
        "preds_document.to_csv(path/'eval'/'predicted.txt', sep='\\t', index=True,\n",
        "                      header=['Target', 'Tweet', 'Stance'], index_label='ID')"
      ],
      "execution_count": 0,
      "outputs": []
    },
    {
      "cell_type": "markdown",
      "metadata": {
        "id": "H0KhzJ1KKe_g",
        "colab_type": "text"
      },
      "source": [
        "The evaluation script is in ```data/eval/``` is run with the following command:\n",
        "\n",
        "    perl eval.py gold.txt predicted.txt\n",
        "\n",
        "    ============\n",
        "    Results                          \n",
        "    ============\n",
        "    FAVOR     precision: 0.5842 recall: 0.5362 f-score: 0.5592\n",
        "    AGAINST   precision: 0.7404 recall: 0.7301 f-score: 0.7352\n",
        "    ------------\n",
        "    Macro F: 0.6472"
      ]
    },
    {
      "cell_type": "markdown",
      "metadata": {
        "id": "vbGM1f4dKe_g",
        "colab_type": "text"
      },
      "source": [
        "Based on the above result, we can see that augmenting the training data with additional domain-specific data (i.e., Tweets) helps us obtain better F-scores for the stance classification task.\n",
        "\n",
        "This result is much closer to the winning result by *MITRE* (of 0.67). The improvement can be largely attributed to the language model fine-tuning step, where we augmented the language model parameters with the tokenized form of a much larger Tweet vocabulary (of 200,000 Tweets downloaded from Kaggle). It can be reasoned that using an even larger Tweet vocabulary (say a million words) could result in a further improvement. However, this would also significantly increase the training time during fine-tuning. In addition to vocabulary augmentation, more extensive hyperparameter tuning and careful classifier fine-tuning could result in further gains. "
      ]
    },
    {
      "cell_type": "markdown",
      "metadata": {
        "id": "ZihWO00NKe_h",
        "colab_type": "text"
      },
      "source": [
        "# 6. Conclusions\n",
        "\n",
        "This notebook showed a training and classification pipeline for a PyTorch-based framework (*ULMFit*) for evaluating stance of Tweets towards a particular topic. It appears that with some basic data cleaning and augmentation with additional Twitter language data, the transfer learning approach using *ULMFit* can provide good classification accuracy F-scores (compared with the winning results from the SemEval 2016 winning team *MITRE*). \n",
        "\n",
        "The main benefit of using *ULMFit* is that it can perform classifier re-training with a *very limited amount of data* (fewer than 500 Tweets per topic in this dataset). However, since Twitter data is of a very different distribution from the pre-trained language model, the language model fine-tuning step is rather expensive (and can take significant time even on GPU). Once the language model is fine-tuned adequately, the classifier can perform per-topic classification relatively easily and with a reasonable level of accuracy comparable with the best score by *MITRE*. \n",
        "\n",
        "We can likely further improve the classification accuracy across all topics with the below steps:\n",
        "\n",
        "1.  Augment the language model vocabulary with a larger subset of Twitter Sentiment140 dataset to improve the model's domain understanding of Tweet syntax\n",
        "\n",
        "2.  Perform additional fine-tuning on the training hyperparameters in both the language model fune-tuning and the classifier fine-tuning stages. \n",
        "\n",
        "3.  Plug in a pre-trained language model that was trained on a large Twitter dataset (if such a model becomes available in the future!)\n",
        "\n",
        "Tweets are sufficiently different from typical language data used to generate pre-trained language models, and  hence are an interesting usecase for analyzing the effectiveness of transfer learning techniques. It will be interesting to see how transfer learning techniques for NLP tasks evolve with time."
      ]
    }
  ]
}